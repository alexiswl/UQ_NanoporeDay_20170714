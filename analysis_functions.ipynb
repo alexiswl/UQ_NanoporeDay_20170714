{
 "cells": [
  {
   "cell_type": "markdown",
   "metadata": {
    "collapsed": true
   },
   "source": [
    "## A novel approach to Plasmid assembly\n",
    "\n",
    "#### Contents:\n",
    "Novel "
   ]
  },
  {
   "cell_type": "code",
   "execution_count": 1,
   "metadata": {
    "collapsed": true
   },
   "outputs": [],
   "source": [
    "# Get directory\n",
    "import os\n",
    "import pandas as pd\n",
    "import numpy as np\n",
    "from Bio import SeqIO\n",
    "import subprocess\n",
    "import shutil\n",
    "RUN_DIR = os.getenv(\"RUN_DIR\")\n",
    "PRESENTATION_DIR = os.getenv(\"PRESENTATION_DIR\")"
   ]
  },
  {
   "cell_type": "code",
   "execution_count": 2,
   "metadata": {},
   "outputs": [
    {
     "name": "stdout",
     "output_type": "stream",
     "text": [
      "/data/Bioinfo/bioinfo-proj-alexis/2017_07_09_PLASMIDS_BARCODED\n"
     ]
    }
   ],
   "source": [
    "print(RUN_DIR)"
   ]
  },
  {
   "cell_type": "code",
   "execution_count": 3,
   "metadata": {},
   "outputs": [],
   "source": [
    "### Function to count the number of reads per fastq file.\n",
    "### Output to csv with the following columns:\n",
    "### Bin, barcode, num nucleotides per barcode/bin\n",
    "os.chdir(RUN_DIR)\n",
    "FASTQ_DIR = os.path.join(RUN_DIR, \"fastq\")\n",
    "\n",
    "barcode2sample_dict = {\"barcode01\": \"JB2\",\n",
    "                       \"barcode02\": \"JB1\",\n",
    "                       \"barcode11\": \"PTS1\",\n",
    "                       \"barcode12\": \"PTS2\",\n",
    "                       \"barcode06\": \"YHC6\",\n",
    "                       \"barcode07\": \"YHC7\",\n",
    "                       \"barcode08\": \"YHC8\",\n",
    "                       \"barcode09\": \"YHC17\",\n",
    "                       \"unclassified\": \"unclassified\"}\n",
    "\n",
    "fastq_files = [fastq_file for fastq_file in os.listdir(FASTQ_DIR)\n",
    "              if fastq_file.endswith(\".fastq\")\n",
    "              and \"mux\" not in fastq_file\n",
    "              and \"all\" not in fastq_file]\n",
    "csv_output_file = os.path.join(PRESENTATION_DIR, \"data\", \"size_by_barcode.tsv\")\n",
    "bin_df = pd.DataFrame(columns=[\"bin\", \"sample\", \"nucleotides\"])\n",
    "for fastq_file in fastq_files:\n",
    "    # 0005_49335_plasmids.barcode07.0.fastq\n",
    "    bin_id = fastq_file.split(\"_\")[0]\n",
    "    barcode = fastq_file.split(\".\")[1]\n",
    "    # Get number of nucleotides\n",
    "    num_nucleotides = 0\n",
    "    with open(os.path.join(FASTQ_DIR, fastq_file), \"rU\") as handle:\n",
    "        for record in SeqIO.parse(handle, \"fastq\"):\n",
    "            num_nucleotides += len(record.seq)\n",
    "    df_as_series = pd.Series(data=[bin_id, barcode2sample_dict[barcode], num_nucleotides], index=[\"bin\", \"sample\", \"nucleotides\"])\n",
    "    bin_df = bin_df.append(df_as_series, ignore_index=True)\n",
    "bin_df.to_csv(csv_output_file, index=False, sep=\"\\t\")"
   ]
  },
  {
   "cell_type": "code",
   "execution_count": 4,
   "metadata": {
    "scrolled": true
   },
   "outputs": [
    {
     "name": "stdout",
     "output_type": "stream",
     "text": [
      "Sample with minimum yield is PTS2\n",
      "barcode12\n",
      "python3 $(which pauvre) marginplot --fastq /data/Bioinfo/bioinfo-proj-alexis/2017_07_09_PLASMIDS_BARCODED/fastq/barcode12.all.fastq --title 'Distribution of PTS2'\n",
      "(\"Namespace(command='marginplot', dpi=600, fastq='/data/Bioinfo/bioinfo-proj-alexis/2017_07_09_PLASMIDS_BARCODED/fastq/barcode12.all.fastq', fileform=['png'], func=<function run_subtool at 0x7fe4904577b8>, lengthbin=None, maxlen=None, maxqual=None, qualbin=None, quiet=False, title='Distribution of PTS2', transparent=True)\\nNum reads: 110\\n\", \"/home/Lucatta/anaconda3/lib/python3.5/site-packages/matplotlib/font_manager.py:1297: UserWarning: findfont: Font family ['sans-serif'] not found. Falling back to DejaVu Sans\\n  (prop.get_family(), self.defaultFamily[fontext]))\\n\")\n"
     ]
    }
   ],
   "source": [
    "# Get minimum sample and produce a pauvre plot\n",
    "grouped = bin_df.groupby(\"sample\")\n",
    "min_sample_name = grouped['nucleotides'].aggregate(np.sum).idxmin()\n",
    "print(\"Sample with minimum yield is %s\" % min_sample_name)\n",
    "min_barcode_name = next((barcode for barcode, sample in barcode2sample_dict.items() \n",
    "                         if sample == min_sample_name), None)\n",
    "print(min_barcode_name)\n",
    "# Generate a pauvre plot for this sample\n",
    "aggregated_fastq_file = os.path.join(FASTQ_DIR, min_barcode_name + \".all.fastq\")\n",
    "pauvre_command_options=[\"python3 $(which pauvre)\"]\n",
    "pauvre_command_options.append(\"marginplot\")\n",
    "pauvre_command_options.append(\"--fastq %s\" % aggregated_fastq_file)\n",
    "pauvre_command_options.append(\"--title 'Distribution of %s'\" % min_sample_name)\n",
    "pauvre_command = ' '.join(pauvre_command_options)\n",
    "print(pauvre_command)\n",
    "pauvre_proc = subprocess.Popen(pauvre_command, shell=True,\n",
    "                                 stdout=subprocess.PIPE, stderr=subprocess.PIPE)\n",
    "stdout, stderr = pauvre_proc.communicate()\n",
    "print(stdout, stderr)\n",
    "pauvre_output_plot = min_barcode_name + \".all.png\"\n",
    "\n",
    "# Move paurve_output_plot to presentation folder\n",
    "pauvre_plot_presentation_file = os.path.join(PRESENTATION_DIR, \"images\", \"pauvre_min.png\")\n",
    "\n",
    "shutil.move(pauvre_output_plot, pauvre_plot_presentation_file)"
   ]
  },
  {
   "cell_type": "code",
   "execution_count": 6,
   "metadata": {},
   "outputs": [
    {
     "name": "stdout",
     "output_type": "stream",
     "text": [
      "('\\n\\x1b[1m\\x1b[4mLooking for known adapter sets\\x1b[0m\\n                                        Best               \\x1b[0m\\n                                        read       Best    \\x1b[0m\\n                                        start      read end\\x1b[0m\\n  \\x1b[4mSet                                   %ID        %ID     \\x1b[0m\\n  \\x1b[32mSQK-NSK007                                92.9       73.9\\x1b[0m\\n  Rapid                                     63.8        0.0\\n  SQK-MAP006                                74.2       75.0\\n  SQK-MAP006 Short                          70.4       76.0\\n  PCR adapters 1                            73.9       75.0\\n  Barcode 1 (reverse)                       76.9       84.0\\n  \\x1b[32mBarcode 2 (reverse)                       84.0       95.8\\x1b[0m\\n  Barcode 3 (reverse)                       70.4       70.8\\n  Barcode 4 (reverse)                       79.2       70.4\\n  Barcode 5 (reverse)                       65.4       75.0\\n  Barcode 6 (reverse)                       75.0       75.0\\n  Barcode 7 (reverse)                       71.4       72.0\\n  Barcode 8 (reverse)                       70.4       70.0\\n  Barcode 9 (reverse)                       69.0       70.8\\n  Barcode 10 (reverse)                      66.7       69.2\\n  \\x1b[32mBarcode 11 (reverse)                      96.0       68.0\\x1b[0m\\n  \\x1b[32mBarcode 12 (reverse)                     100.0      100.0\\x1b[0m\\n  Barcode 1 (forward)                       72.0       66.7\\n  Barcode 2 (forward)                       69.2       74.1\\n  Barcode 3 (forward)                       72.0       70.8\\n  Barcode 4 (forward)                       70.8       71.4\\n  Barcode 5 (forward)                       75.0       70.8\\n  Barcode 6 (forward)                       75.0       70.8\\n  Barcode 7 (forward)                       69.2       70.8\\n  Barcode 8 (forward)                       69.2       72.0\\n  Barcode 9 (forward)                       73.1       69.2\\n  Barcode 10 (forward)                      70.0       73.1\\n  Barcode 11 (forward)                      72.0       69.0\\n  \\x1b[32mBarcode 12 (forward)                      72.0      100.0\\x1b[0m\\n  Barcode 13 (forward)                      71.4       72.4\\n  Barcode 14 (forward)                      66.7       69.2\\n  Barcode 15 (forward)                      72.0       72.0\\n  Barcode 16 (forward)                      72.0       73.1\\n  Barcode 17 (forward)                      70.4       72.4\\n  Barcode 18 (forward)                      70.0       69.2\\n  Barcode 19 (forward)                      70.8       69.2\\n  Barcode 20 (forward)                      69.2       68.0\\n  Barcode 21 (forward)                      70.8       72.0\\n  Barcode 22 (forward)                      70.8       72.0\\n  Barcode 23 (forward)                      73.1       70.8\\n  Barcode 24 (forward)                      70.4       70.4\\n  Barcode 25 (forward)                      75.0       68.0\\n  Barcode 26 (forward)                      69.2       73.1\\n  Barcode 27 (forward)                      71.4       70.8\\n  Barcode 28 (forward)                      70.8       70.8\\n  Barcode 29 (forward)                      72.0       69.2\\n  Barcode 30 (forward)                      70.8       76.0\\n  Barcode 31 (forward)                      73.1       73.1\\n  Barcode 32 (forward)                      70.4       72.0\\n  Barcode 33 (forward)                      70.8       69.2\\n  Barcode 34 (forward)                      76.0       72.0\\n  Barcode 35 (forward)                      67.9       69.2\\n  Barcode 36 (forward)                      68.0       73.1\\n  Barcode 37 (forward)                      75.0       80.0\\n  Barcode 38 (forward)                      67.9       75.0\\n  Barcode 39 (forward)                      65.6       72.4\\n  Barcode 40 (forward)                      70.8       74.1\\n  Barcode 41 (forward)                      69.2       72.0\\n  Barcode 42 (forward)                      72.0       76.9\\n  Barcode 43 (forward)                      69.2       76.9\\n  Barcode 44 (forward)                      65.4       70.6\\n  Barcode 45 (forward)                      70.8       70.4\\n  Barcode 46 (forward)                      76.9       72.0\\n  Barcode 47 (forward)                      68.0       68.0\\n  Barcode 48 (forward)                      75.0       73.1\\n  Barcode 49 (forward)                      73.1       73.1\\n  Barcode 50 (forward)                      69.0       69.2\\n  Barcode 51 (forward)                      68.0       75.0\\n  Barcode 52 (forward)                      70.4       75.0\\n  Barcode 53 (forward)                      70.8       76.0\\n  Barcode 54 (forward)                      75.0       68.0\\n  Barcode 55 (forward)                      68.0       70.8\\n  Barcode 56 (forward)                      70.4       72.0\\n  Barcode 57 (forward)                      66.7       70.4\\n  Barcode 58 (forward)                      74.1       69.2\\n  Barcode 59 (forward)                      66.7       69.2\\n  Barcode 60 (forward)                      66.7       68.0\\n  Barcode 61 (forward)                      72.0       70.8\\n  Barcode 62 (forward)                      71.0       70.8\\n  Barcode 63 (forward)                      72.4       70.8\\n  Barcode 64 (forward)                      71.4       73.1\\n  Barcode 65 (forward)                      71.4       72.0\\n  Barcode 66 (forward)                      72.0       71.4\\n  Barcode 67 (forward)                      70.8       69.2\\n  Barcode 68 (forward)                      70.4       67.9\\n  Barcode 69 (forward)                      69.2       72.4\\n  Barcode 70 (forward)                      71.4       70.0\\n  Barcode 71 (forward)                      73.1       75.0\\n  Barcode 72 (forward)                      71.4       70.8\\n  Barcode 73 (forward)                      71.4       70.4\\n  Barcode 74 (forward)                      68.0       68.0\\n  Barcode 75 (forward)                      70.8       67.9\\n  Barcode 76 (forward)                      70.4       70.8\\n  Barcode 77 (forward)                      71.4       72.0\\n  Barcode 78 (forward)                      67.9       70.4\\n  Barcode 79 (forward)                      70.8       73.1\\n  Barcode 80 (forward)                      71.4       70.4\\n  Barcode 81 (forward)                      73.3       70.8\\n  Barcode 82 (forward)                      70.8       72.0\\n  Barcode 83 (forward)                      74.1       68.0\\n  Barcode 84 (forward)                      72.0       66.7\\n  Barcode 85 (forward)                      71.4       70.8\\n  Barcode 86 (forward)                      70.8       76.0\\n  Barcode 87 (forward)                      71.4       66.7\\n  Barcode 88 (forward)                      70.8       69.2\\n  Barcode 89 (forward)                      72.0       75.0\\n  Barcode 90 (forward)                      70.4       70.4\\n  Barcode 91 (forward)                      72.0       69.2\\n  Barcode 92 (forward)                      69.2       70.4\\n  Barcode 93 (forward)                      69.0       69.0\\n  Barcode 94 (forward)                      69.2       70.4\\n  Barcode 95 (forward)                      70.4       72.0\\n  Barcode 96 (forward)                      70.8       72.0\\n\\n\\n\\x1b[1m\\x1b[4mTrimming adapters from read ends\\x1b[0m\\n     SQK-NSK007_Y_Top: \\x1b[31mAATGTACTTCGTTCAGTTACGTATTGCT\\x1b[0m\\n  SQK-NSK007_Y_Bottom: \\x1b[31mGCAATACGTAACTGAACGAAGT\\x1b[0m\\n             BC02_rev: \\x1b[31mACAGACGACTACAAACGGAATCGA\\x1b[0m\\n                 BC02: \\x1b[31mTCGATTCCGTTTGTAGTCGTCTGT\\x1b[0m\\n             BC11_rev: \\x1b[31mTCCATTCCCTCCGATAGATGAAAC\\x1b[0m\\n                 BC11: \\x1b[31mGTTTCATCTATCGGAGGGAATGGA\\x1b[0m\\n             BC12_rev: \\x1b[31mTCCGATTCTGCTTCTTTCTACCTG\\x1b[0m\\n                 BC12: \\x1b[31mCAGGTAGAAAGAAGCAGAATCGGA\\x1b[0m\\n                 BC12: \\x1b[31mCAGGTAGAAAGAAGCAGAATCGGA\\x1b[0m\\n             BC12_rev: \\x1b[31mTCCGATTCTGCTTCTTTCTACCTG\\x1b[0m\\n           NB02_start: \\x1b[31mAATGTACTTCGTTCAGTTACGTATTGCTAAAGGTTAAACAGACGACTACAAACGGAATCGACAGCACC\\x1b[0m\\n             NB02_end: \\x1b[31mGGTGCTGTCGATTCCGTTTGTAGTCGTCTGTTTAACCTTTGCAATACGTAACTGAACGAAGT\\x1b[0m\\n           NB11_start: \\x1b[31mAATGTACTTCGTTCAGTTACGTATTGCTAAAGGTTAATCCATTCCCTCCGATAGATGAAACCAGCACC\\x1b[0m\\n             NB11_end: \\x1b[31mGGTGCTGGTTTCATCTATCGGAGGGAATGGATTAACCTTTGCAATACGTAACTGAACGAAGT\\x1b[0m\\n           NB12_start: \\x1b[31mAATGTACTTCGTTCAGTTACGTATTGCTAAAGGTTAATCCGATTCTGCTTCTTTCTACCTGCAGCACC\\x1b[0m\\n             NB12_end: \\x1b[31mGGTGCTGCAGGTAGAAAGAAGCAGAATCGGATTAACCTTTGCAATACGTAACTGAACGAAGT\\x1b[0m\\n\\n102 / 110 reads had adapters trimmed from their start (5667 bp removed)\\n 48 / 110 reads had adapters trimmed from their end (1915 bp removed)\\n\\n\\n\\x1b[1m\\x1b[4mDiscarding reads containing middle adapters\\x1b[0m\\n0 / 110 reads were discarded based on middle adapters\\n\\n\\nSaved result to /data/Bioinfo/bioinfo-proj-alexis/2017_07_09_PLASMIDS_BARCODED/trimmed/PTS2.all.trimmed.fastq\\n\\n', '')\n"
     ]
    },
    {
     "name": "stdout",
     "output_type": "stream",
     "text": [
      "('\\n\\x1b[1m\\x1b[4mLooking for known adapter sets\\x1b[0m\\n                                        Best               \\x1b[0m\\n                                        read       Best    \\x1b[0m\\n                                        start      read end\\x1b[0m\\n  \\x1b[4mSet                                   %ID        %ID     \\x1b[0m\\n  \\x1b[32mSQK-NSK007                                92.9       73.9\\x1b[0m\\n  Rapid                                     64.9        0.0\\n  SQK-MAP006                                77.4       78.3\\n  SQK-MAP006 Short                          71.4       72.0\\n  PCR adapters 1                            72.7       75.0\\n  Barcode 1 (reverse)                       72.0       80.8\\n  \\x1b[32mBarcode 2 (reverse)                      100.0      100.0\\x1b[0m\\n  Barcode 3 (reverse)                       70.8       72.4\\n  Barcode 4 (reverse)                       74.1       72.0\\n  Barcode 5 (reverse)                       72.0       76.9\\n  Barcode 6 (reverse)                       69.2       69.0\\n  Barcode 7 (reverse)                       69.2       69.0\\n  Barcode 8 (reverse)                       70.0       72.4\\n  Barcode 9 (reverse)                       72.4       70.8\\n  Barcode 10 (reverse)                      69.2       73.1\\n  \\x1b[32mBarcode 11 (reverse)                     100.0      100.0\\x1b[0m\\n  Barcode 12 (reverse)                      84.0       73.1\\n  Barcode 1 (forward)                       71.0       73.1\\n  Barcode 2 (forward)                       72.0       70.8\\n  Barcode 3 (forward)                       68.0       72.0\\n  Barcode 4 (forward)                       70.8       72.0\\n  Barcode 5 (forward)                       70.4       69.0\\n  Barcode 6 (forward)                       70.4       68.0\\n  Barcode 7 (forward)                       70.8       72.0\\n  Barcode 8 (forward)                       69.0       73.1\\n  Barcode 9 (forward)                       68.0       68.0\\n  Barcode 10 (forward)                      76.0       75.0\\n  Barcode 11 (forward)                      70.8       70.4\\n  Barcode 12 (forward)                      73.1       75.0\\n  Barcode 13 (forward)                      69.2       72.0\\n  Barcode 14 (forward)                      69.2       69.0\\n  Barcode 15 (forward)                      72.0       69.2\\n  Barcode 16 (forward)                      70.4       70.8\\n  Barcode 17 (forward)                      72.0       74.1\\n  Barcode 18 (forward)                      70.8       70.8\\n  Barcode 19 (forward)                      70.4       72.0\\n  Barcode 20 (forward)                      73.1       73.1\\n  Barcode 21 (forward)                      79.2       70.4\\n  Barcode 22 (forward)                      72.0       75.0\\n  Barcode 23 (forward)                      75.0       70.4\\n  Barcode 24 (forward)                      73.1       73.1\\n  Barcode 25 (forward)                      72.0       74.1\\n  Barcode 26 (forward)                      74.2       70.0\\n  Barcode 27 (forward)                      74.1       70.4\\n  Barcode 28 (forward)                      70.8       72.0\\n  Barcode 29 (forward)                      68.0       69.2\\n  Barcode 30 (forward)                      70.8       72.0\\n  Barcode 31 (forward)                      76.0       70.8\\n  Barcode 32 (forward)                      72.0       71.4\\n  Barcode 33 (forward)                      70.8       70.8\\n  Barcode 34 (forward)                      73.1       70.4\\n  Barcode 35 (forward)                      68.0       72.0\\n  Barcode 36 (forward)                      70.4       71.4\\n  Barcode 37 (forward)                      72.0       75.0\\n  Barcode 38 (forward)                      73.1       72.0\\n  Barcode 39 (forward)                      73.1       69.2\\n  Barcode 40 (forward)                      69.2       73.1\\n  Barcode 41 (forward)                      70.8       73.1\\n  Barcode 42 (forward)                      72.4       74.1\\n  Barcode 43 (forward)                      76.9       71.4\\n  Barcode 44 (forward)                      66.7       69.2\\n  Barcode 45 (forward)                      70.8       73.1\\n  Barcode 46 (forward)                      72.0       75.0\\n  Barcode 47 (forward)                      70.8       73.1\\n  Barcode 48 (forward)                      70.4       70.8\\n  Barcode 49 (forward)                      75.0       72.0\\n  Barcode 50 (forward)                      70.8       70.4\\n  Barcode 51 (forward)                      68.0       72.0\\n  Barcode 52 (forward)                      74.1       75.0\\n  Barcode 53 (forward)                      72.0       73.1\\n  Barcode 54 (forward)                      73.1       70.4\\n  Barcode 55 (forward)                      72.0       72.0\\n  Barcode 56 (forward)                      72.4       73.1\\n  Barcode 57 (forward)                      75.0       71.4\\n  Barcode 58 (forward)                      70.8       73.1\\n  Barcode 59 (forward)                      74.1       75.0\\n  Barcode 60 (forward)                      75.0       72.0\\n  Barcode 61 (forward)                      70.4       68.0\\n  Barcode 62 (forward)                      72.0       74.1\\n  Barcode 63 (forward)                      72.0       68.0\\n  Barcode 64 (forward)                      74.1       73.1\\n  Barcode 65 (forward)                      70.8       74.1\\n  Barcode 66 (forward)                      75.0       72.0\\n  Barcode 67 (forward)                      70.4       77.8\\n  Barcode 68 (forward)                      69.0       70.8\\n  Barcode 69 (forward)                      73.1       72.0\\n  Barcode 70 (forward)                      69.2       75.0\\n  Barcode 71 (forward)                      71.4       70.8\\n  Barcode 72 (forward)                      69.2       71.4\\n  Barcode 73 (forward)                      72.0       74.1\\n  Barcode 74 (forward)                      70.8       70.8\\n  Barcode 75 (forward)                      71.4       73.1\\n  Barcode 76 (forward)                      70.4       70.4\\n  Barcode 77 (forward)                      70.8       69.2\\n  Barcode 78 (forward)                      73.1       69.2\\n  Barcode 79 (forward)                      73.1       76.0\\n  Barcode 80 (forward)                      73.1       72.0\\n  Barcode 81 (forward)                      72.0       75.0\\n  Barcode 82 (forward)                      75.0       72.0\\n  Barcode 83 (forward)                      75.0       72.0\\n  Barcode 84 (forward)                      73.1       71.4\\n  Barcode 85 (forward)                      74.1       70.4\\n  Barcode 86 (forward)                      73.1       72.0\\n  Barcode 87 (forward)                      75.0       70.4\\n  Barcode 88 (forward)                      72.0       70.4\\n  Barcode 89 (forward)                      73.1       73.1\\n  Barcode 90 (forward)                      70.4       70.8\\n  Barcode 91 (forward)                      70.8       73.1\\n  Barcode 92 (forward)                      72.0       73.1\\n  Barcode 93 (forward)                      72.0       72.0\\n  Barcode 94 (forward)                      67.7       68.0\\n  Barcode 95 (forward)                      69.2       72.0\\n  Barcode 96 (forward)                      70.8       73.1\\n\\n\\n\\x1b[1m\\x1b[4mTrimming adapters from read ends\\x1b[0m\\n     SQK-NSK007_Y_Top: \\x1b[31mAATGTACTTCGTTCAGTTACGTATTGCT\\x1b[0m\\n  SQK-NSK007_Y_Bottom: \\x1b[31mGCAATACGTAACTGAACGAAGT\\x1b[0m\\n             BC02_rev: \\x1b[31mACAGACGACTACAAACGGAATCGA\\x1b[0m\\n                 BC02: \\x1b[31mTCGATTCCGTTTGTAGTCGTCTGT\\x1b[0m\\n             BC11_rev: \\x1b[31mTCCATTCCCTCCGATAGATGAAAC\\x1b[0m\\n                 BC11: \\x1b[31mGTTTCATCTATCGGAGGGAATGGA\\x1b[0m\\n           NB02_start: \\x1b[31mAATGTACTTCGTTCAGTTACGTATTGCTAAAGGTTAAACAGACGACTACAAACGGAATCGACAGCACC\\x1b[0m\\n             NB02_end: \\x1b[31mGGTGCTGTCGATTCCGTTTGTAGTCGTCTGTTTAACCTTTGCAATACGTAACTGAACGAAGT\\x1b[0m\\n           NB11_start: \\x1b[31mAATGTACTTCGTTCAGTTACGTATTGCTAAAGGTTAATCCATTCCCTCCGATAGATGAAACCAGCACC\\x1b[0m\\n             NB11_end: \\x1b[31mGGTGCTGGTTTCATCTATCGGAGGGAATGGATTAACCTTTGCAATACGTAACTGAACGAAGT\\x1b[0m\\n\\n151 / 165 reads had adapters trimmed from their start (8689 bp removed)\\n 90 / 165 reads had adapters trimmed from their end (4269 bp removed)\\n\\n\\n\\x1b[1m\\x1b[4mDiscarding reads containing middle adapters\\x1b[0m\\n0 / 165 reads were discarded based on middle adapters\\n\\n\\nSaved result to /data/Bioinfo/bioinfo-proj-alexis/2017_07_09_PLASMIDS_BARCODED/trimmed/PTS1.all.trimmed.fastq\\n\\n', '')\n"
     ]
    },
    {
     "name": "stdout",
     "output_type": "stream",
     "text": [
      "('\\n\\x1b[1m\\x1b[4mLooking for known adapter sets\\x1b[0m\\n                                        Best               \\x1b[0m\\n                                        read       Best    \\x1b[0m\\n                                        start      read end\\x1b[0m\\n  \\x1b[4mSet                                   %ID        %ID     \\x1b[0m\\n  \\x1b[32mSQK-NSK007                                96.4       73.9\\x1b[0m\\n  Rapid                                     64.3        0.0\\n  SQK-MAP006                                71.9       72.7\\n  SQK-MAP006 Short                          72.0       79.2\\n  PCR adapters 1                            77.3       73.9\\n  Barcode 1 (reverse)                       75.0       74.1\\n  Barcode 2 (reverse)                       70.8       72.0\\n  Barcode 3 (reverse)                       74.1       72.0\\n  Barcode 4 (reverse)                       68.0       70.4\\n  Barcode 5 (reverse)                       70.4       75.0\\n  Barcode 6 (reverse)                       88.0       70.4\\n  \\x1b[32mBarcode 7 (reverse)                       91.7      100.0\\x1b[0m\\n  \\x1b[32mBarcode 8 (reverse)                      100.0      100.0\\x1b[0m\\n  \\x1b[32mBarcode 9 (reverse)                       91.7       76.9\\x1b[0m\\n  Barcode 10 (reverse)                      72.0       72.0\\n  Barcode 11 (reverse)                      75.0       69.2\\n  Barcode 12 (reverse)                      75.0       76.0\\n  Barcode 1 (forward)                       72.0       73.1\\n  Barcode 2 (forward)                       72.0       71.4\\n  Barcode 3 (forward)                       70.8       74.1\\n  Barcode 4 (forward)                       75.0       73.1\\n  Barcode 5 (forward)                       69.2       70.8\\n  Barcode 6 (forward)                       69.2       72.0\\n  Barcode 7 (forward)                       75.0       71.4\\n  Barcode 8 (forward)                       70.4       76.9\\n  Barcode 9 (forward)                       72.0       73.1\\n  Barcode 10 (forward)                      72.0       70.8\\n  Barcode 11 (forward)                      70.8       72.0\\n  Barcode 12 (forward)                      80.0       76.0\\n  Barcode 13 (forward)                      72.0       72.0\\n  Barcode 14 (forward)                      67.7       70.8\\n  Barcode 15 (forward)                      76.0       73.1\\n  Barcode 16 (forward)                      76.0       72.0\\n  Barcode 17 (forward)                      75.0       72.0\\n  Barcode 18 (forward)                      70.8       72.0\\n  Barcode 19 (forward)                      71.4       80.0\\n  Barcode 20 (forward)                      74.1       72.4\\n  Barcode 21 (forward)                      73.1       72.0\\n  Barcode 22 (forward)                      68.0       73.3\\n  Barcode 23 (forward)                      69.2       71.4\\n  Barcode 24 (forward)                      72.0       73.1\\n  Barcode 25 (forward)                      70.8       75.0\\n  Barcode 26 (forward)                      77.8       70.8\\n  Barcode 27 (forward)                      75.0       73.1\\n  Barcode 28 (forward)                      70.8       72.0\\n  Barcode 29 (forward)                      75.0       73.1\\n  Barcode 30 (forward)                      72.0       72.0\\n  Barcode 31 (forward)                      73.1       75.0\\n  Barcode 32 (forward)                      70.8       74.1\\n  Barcode 33 (forward)                      73.1       73.1\\n  Barcode 34 (forward)                      69.2       73.1\\n  Barcode 35 (forward)                      76.0       73.1\\n  Barcode 36 (forward)                      70.4       68.0\\n  Barcode 37 (forward)                      75.0       76.9\\n  Barcode 38 (forward)                      70.8       73.1\\n  Barcode 39 (forward)                      70.0       70.8\\n  Barcode 40 (forward)                      70.8       70.4\\n  Barcode 41 (forward)                      71.4       74.1\\n  Barcode 42 (forward)                      72.0       76.9\\n  Barcode 43 (forward)                      72.0       73.1\\n  Barcode 44 (forward)                      69.2       76.0\\n  Barcode 45 (forward)                      72.0       74.1\\n  Barcode 46 (forward)                      74.1       76.9\\n  Barcode 47 (forward)                      68.0       70.8\\n  Barcode 48 (forward)                      70.0       69.2\\n  Barcode 49 (forward)                      70.4       70.8\\n  Barcode 50 (forward)                      72.0       74.1\\n  Barcode 51 (forward)                      73.1       70.8\\n  Barcode 52 (forward)                      73.1       76.0\\n  Barcode 53 (forward)                      69.2       76.0\\n  Barcode 54 (forward)                      76.0       73.1\\n  Barcode 55 (forward)                      72.0       75.0\\n  Barcode 56 (forward)                      73.1       69.2\\n  Barcode 57 (forward)                      75.0       70.8\\n  Barcode 58 (forward)                      73.1       70.8\\n  Barcode 59 (forward)                      70.8       75.0\\n  Barcode 60 (forward)                      71.4       70.8\\n  Barcode 61 (forward)                      70.8       72.0\\n  Barcode 62 (forward)                      72.0       75.0\\n  Barcode 63 (forward)                      72.0       74.1\\n  Barcode 64 (forward)                      73.1       74.1\\n  Barcode 65 (forward)                      75.0       70.8\\n  Barcode 66 (forward)                      68.0       72.0\\n  Barcode 67 (forward)                      74.1       74.1\\n  Barcode 68 (forward)                      69.2       72.0\\n  Barcode 69 (forward)                      72.0       72.0\\n  Barcode 70 (forward)                      72.0       69.2\\n  Barcode 71 (forward)                      75.0       75.0\\n  Barcode 72 (forward)                      74.1       72.0\\n  Barcode 73 (forward)                      73.1       69.2\\n  Barcode 74 (forward)                      72.0       70.8\\n  Barcode 75 (forward)                      72.0       76.0\\n  Barcode 76 (forward)                      76.0       70.4\\n  Barcode 77 (forward)                      72.0       77.8\\n  Barcode 78 (forward)                      76.0       69.0\\n  Barcode 79 (forward)                      74.1       73.1\\n  Barcode 80 (forward)                      70.4       70.8\\n  Barcode 81 (forward)                      70.8       72.4\\n  Barcode 82 (forward)                      74.1       70.8\\n  Barcode 83 (forward)                      72.4       70.8\\n  Barcode 84 (forward)                      75.0       72.0\\n  Barcode 85 (forward)                      70.8       72.0\\n  Barcode 86 (forward)                      66.7       76.0\\n  Barcode 87 (forward)                      68.0       70.8\\n  Barcode 88 (forward)                      72.0       77.8\\n  Barcode 89 (forward)                      73.1       72.0\\n  Barcode 90 (forward)                      76.0       74.1\\n  Barcode 91 (forward)                      71.4       71.4\\n  Barcode 92 (forward)                      73.1       73.1\\n  Barcode 93 (forward)                      69.2       73.1\\n  Barcode 94 (forward)                      79.2       80.0\\n  Barcode 95 (forward)                      70.8       73.1\\n  Barcode 96 (forward)                      76.0       73.1\\n\\n\\n\\x1b[1m\\x1b[4mTrimming adapters from read ends\\x1b[0m\\n     SQK-NSK007_Y_Top: \\x1b[31mAATGTACTTCGTTCAGTTACGTATTGCT\\x1b[0m\\n  SQK-NSK007_Y_Bottom: \\x1b[31mGCAATACGTAACTGAACGAAGT\\x1b[0m\\n             BC07_rev: \\x1b[31mAAGGATTCATTCCCACGGTAACAC\\x1b[0m\\n                 BC07: \\x1b[31mGTGTTACCGTGGGAATGAATCCTT\\x1b[0m\\n             BC08_rev: \\x1b[31mACGTAACTTGGTTTGTTCCCTGAA\\x1b[0m\\n                 BC08: \\x1b[31mTTCAGGGAACAAACCAAGTTACGT\\x1b[0m\\n             BC09_rev: \\x1b[31mAACCAAGACTCGCTGTGCCTAGTT\\x1b[0m\\n                 BC09: \\x1b[31mAACTAGGCACAGCGAGTCTTGGTT\\x1b[0m\\n           NB07_start: \\x1b[31mAATGTACTTCGTTCAGTTACGTATTGCTAAAGGTTAAAAGGATTCATTCCCACGGTAACACCAGCACC\\x1b[0m\\n             NB07_end: \\x1b[31mGGTGCTGGTGTTACCGTGGGAATGAATCCTTTTAACCTTTGCAATACGTAACTGAACGAAGT\\x1b[0m\\n           NB08_start: \\x1b[31mAATGTACTTCGTTCAGTTACGTATTGCTAAAGGTTAAACGTAACTTGGTTTGTTCCCTGAACAGCACC\\x1b[0m\\n             NB08_end: \\x1b[31mGGTGCTGTTCAGGGAACAAACCAAGTTACGTTTAACCTTTGCAATACGTAACTGAACGAAGT\\x1b[0m\\n           NB09_start: \\x1b[31mAATGTACTTCGTTCAGTTACGTATTGCTAAAGGTTAAAACCAAGACTCGCTGTGCCTAGTTCAGCACC\\x1b[0m\\n             NB09_end: \\x1b[31mGGTGCTGAACTAGGCACAGCGAGTCTTGGTTTTAACCTTTGCAATACGTAACTGAACGAAGT\\x1b[0m\\n\\n199 / 228 reads had adapters trimmed from their start (10513 bp removed)\\n151 / 228 reads had adapters trimmed from their end (6887 bp removed)\\n\\n\\n\\x1b[1m\\x1b[4mDiscarding reads containing middle adapters\\x1b[0m\\n0 / 228 reads were discarded based on middle adapters\\n\\n\\nSaved result to /data/Bioinfo/bioinfo-proj-alexis/2017_07_09_PLASMIDS_BARCODED/trimmed/YHC8.all.trimmed.fastq\\n\\n', '')\n"
     ]
    },
    {
     "name": "stdout",
     "output_type": "stream",
     "text": [
      "('\\n\\x1b[1m\\x1b[4mLooking for known adapter sets\\x1b[0m\\n                                        Best               \\x1b[0m\\n                                        read       Best    \\x1b[0m\\n                                        start      read end\\x1b[0m\\n  \\x1b[4mSet                                   %ID        %ID     \\x1b[0m\\n  \\x1b[32mSQK-NSK007                                92.9       72.7\\x1b[0m\\n  Rapid                                     65.5        0.0\\n  SQK-MAP006                                72.4       75.0\\n  SQK-MAP006 Short                          68.0       76.0\\n  PCR adapters 1                            77.3       77.3\\n  Barcode 1 (reverse)                       71.4       72.0\\n  Barcode 2 (reverse)                       71.4       70.8\\n  Barcode 3 (reverse)                       70.8       72.0\\n  Barcode 4 (reverse)                       69.2       73.1\\n  Barcode 5 (reverse)                       75.0       74.1\\n  Barcode 6 (reverse)                       88.0       77.8\\n  Barcode 7 (reverse)                       83.3       70.8\\n  \\x1b[32mBarcode 8 (reverse)                       91.7       71.4\\x1b[0m\\n  \\x1b[32mBarcode 9 (reverse)                      100.0      100.0\\x1b[0m\\n  Barcode 10 (reverse)                      69.0       69.2\\n  Barcode 11 (reverse)                      72.0       70.4\\n  Barcode 12 (reverse)                      73.3       76.0\\n  Barcode 1 (forward)                       67.9       70.8\\n  Barcode 2 (forward)                       71.4       73.1\\n  Barcode 3 (forward)                       70.8       73.1\\n  Barcode 4 (forward)                       69.2       71.4\\n  Barcode 5 (forward)                       70.4       71.4\\n  Barcode 6 (forward)                       70.8       70.8\\n  Barcode 7 (forward)                       70.4       69.0\\n  Barcode 8 (forward)                       70.8       72.0\\n  Barcode 9 (forward)                       72.0       72.0\\n  Barcode 10 (forward)                      72.4       69.2\\n  Barcode 11 (forward)                      68.0       73.1\\n  Barcode 12 (forward)                      70.8       69.2\\n  Barcode 13 (forward)                      71.4       72.0\\n  Barcode 14 (forward)                      75.0       69.2\\n  Barcode 15 (forward)                      71.4       70.8\\n  Barcode 16 (forward)                      76.0       73.1\\n  Barcode 17 (forward)                      72.0       70.4\\n  Barcode 18 (forward)                      74.1       70.4\\n  Barcode 19 (forward)                      72.0       70.8\\n  Barcode 20 (forward)                      71.4       76.0\\n  Barcode 21 (forward)                      72.0       70.4\\n  Barcode 22 (forward)                      71.4       71.4\\n  Barcode 23 (forward)                      73.1       70.4\\n  Barcode 24 (forward)                      72.0       72.0\\n  Barcode 25 (forward)                      70.8       74.1\\n  Barcode 26 (forward)                      72.0       70.4\\n  Barcode 27 (forward)                      69.2       72.0\\n  Barcode 28 (forward)                      70.8       70.4\\n  Barcode 29 (forward)                      70.8       73.1\\n  Barcode 30 (forward)                      71.4       74.1\\n  Barcode 31 (forward)                      75.0       70.8\\n  Barcode 32 (forward)                      71.4       72.0\\n  Barcode 33 (forward)                      69.2       72.0\\n  Barcode 34 (forward)                      76.0       70.8\\n  Barcode 35 (forward)                      69.2       72.0\\n  Barcode 36 (forward)                      69.2       74.1\\n  Barcode 37 (forward)                      73.1       72.0\\n  Barcode 38 (forward)                      69.2       71.4\\n  Barcode 39 (forward)                      73.1       75.0\\n  Barcode 40 (forward)                      71.4       72.0\\n  Barcode 41 (forward)                      72.0       68.0\\n  Barcode 42 (forward)                      74.1       72.0\\n  Barcode 43 (forward)                      72.0       70.8\\n  Barcode 44 (forward)                      70.8       70.4\\n  Barcode 45 (forward)                      73.1       72.0\\n  Barcode 46 (forward)                      72.0       76.9\\n  Barcode 47 (forward)                      76.0       70.8\\n  Barcode 48 (forward)                      72.0       69.2\\n  Barcode 49 (forward)                      71.4       70.8\\n  Barcode 50 (forward)                      72.0       70.4\\n  Barcode 51 (forward)                      68.0       77.8\\n  Barcode 52 (forward)                      70.8       71.0\\n  Barcode 53 (forward)                      73.1       73.1\\n  Barcode 54 (forward)                      75.0       73.1\\n  Barcode 55 (forward)                      71.4       73.1\\n  Barcode 56 (forward)                      72.0       73.1\\n  Barcode 57 (forward)                      70.4       74.1\\n  Barcode 58 (forward)                      70.8       73.1\\n  Barcode 59 (forward)                      72.4       69.2\\n  Barcode 60 (forward)                      75.0       75.0\\n  Barcode 61 (forward)                      70.4       73.1\\n  Barcode 62 (forward)                      69.2       72.0\\n  Barcode 63 (forward)                      73.1       69.2\\n  Barcode 64 (forward)                      75.0       73.1\\n  Barcode 65 (forward)                      69.2       73.1\\n  Barcode 66 (forward)                      73.1       74.1\\n  Barcode 67 (forward)                      69.2       73.1\\n  Barcode 68 (forward)                      70.4       76.0\\n  Barcode 69 (forward)                      70.8       72.0\\n  Barcode 70 (forward)                      70.4       75.0\\n  Barcode 71 (forward)                      73.1       73.1\\n  Barcode 72 (forward)                      73.1       73.1\\n  Barcode 73 (forward)                      72.0       75.9\\n  Barcode 74 (forward)                      76.0       70.8\\n  Barcode 75 (forward)                      73.1       70.8\\n  Barcode 76 (forward)                      73.1       72.0\\n  Barcode 77 (forward)                      70.8       72.0\\n  Barcode 78 (forward)                      69.2       72.0\\n  Barcode 79 (forward)                      75.0       75.0\\n  Barcode 80 (forward)                      70.4       73.1\\n  Barcode 81 (forward)                      70.4       69.2\\n  Barcode 82 (forward)                      72.0       70.8\\n  Barcode 83 (forward)                      70.8       72.0\\n  Barcode 84 (forward)                      67.9       70.4\\n  Barcode 85 (forward)                      73.1       71.4\\n  Barcode 86 (forward)                      70.4       70.4\\n  Barcode 87 (forward)                      69.2       70.4\\n  Barcode 88 (forward)                      69.2       70.0\\n  Barcode 89 (forward)                      70.4       73.1\\n  Barcode 90 (forward)                      70.8       73.1\\n  Barcode 91 (forward)                      72.0       70.8\\n  Barcode 92 (forward)                      72.0       70.4\\n  Barcode 93 (forward)                      71.4       72.0\\n  Barcode 94 (forward)                      76.0       72.0\\n  Barcode 95 (forward)                      72.0       75.0\\n  Barcode 96 (forward)                      72.0       72.0\\n\\n\\n\\x1b[1m\\x1b[4mTrimming adapters from read ends\\x1b[0m\\n     SQK-NSK007_Y_Top: \\x1b[31mAATGTACTTCGTTCAGTTACGTATTGCT\\x1b[0m\\n  SQK-NSK007_Y_Bottom: \\x1b[31mGCAATACGTAACTGAACGAAGT\\x1b[0m\\n             BC08_rev: \\x1b[31mACGTAACTTGGTTTGTTCCCTGAA\\x1b[0m\\n                 BC08: \\x1b[31mTTCAGGGAACAAACCAAGTTACGT\\x1b[0m\\n             BC09_rev: \\x1b[31mAACCAAGACTCGCTGTGCCTAGTT\\x1b[0m\\n                 BC09: \\x1b[31mAACTAGGCACAGCGAGTCTTGGTT\\x1b[0m\\n           NB08_start: \\x1b[31mAATGTACTTCGTTCAGTTACGTATTGCTAAAGGTTAAACGTAACTTGGTTTGTTCCCTGAACAGCACC\\x1b[0m\\n             NB08_end: \\x1b[31mGGTGCTGTTCAGGGAACAAACCAAGTTACGTTTAACCTTTGCAATACGTAACTGAACGAAGT\\x1b[0m\\n           NB09_start: \\x1b[31mAATGTACTTCGTTCAGTTACGTATTGCTAAAGGTTAAAACCAAGACTCGCTGTGCCTAGTTCAGCACC\\x1b[0m\\n             NB09_end: \\x1b[31mGGTGCTGAACTAGGCACAGCGAGTCTTGGTTTTAACCTTTGCAATACGTAACTGAACGAAGT\\x1b[0m\\n\\n151 / 184 reads had adapters trimmed from their start (8436 bp removed)\\n130 / 184 reads had adapters trimmed from their end (6703 bp removed)\\n\\n\\n\\x1b[1m\\x1b[4mDiscarding reads containing middle adapters\\x1b[0m\\n281db78e-9085-4948-9a86-efc804e1910c runid=b955262580690dbd8e517a333e4c683404484580 read=1380 ch=87 start_time=2017-07-08T08:12:01Z barcode=barcode09\\n  BC09_rev (read coords: 15-37, identity: 91.7%)\\n\\n1 / 184 reads were discarded based on middle adapters\\n\\n\\nSaved result to /data/Bioinfo/bioinfo-proj-alexis/2017_07_09_PLASMIDS_BARCODED/trimmed/YHC17.all.trimmed.fastq\\n\\n', '')\n"
     ]
    },
    {
     "name": "stdout",
     "output_type": "stream",
     "text": [
      "('\\n\\x1b[1m\\x1b[4mLooking for known adapter sets\\x1b[0m\\n                                        Best               \\x1b[0m\\n                                        read       Best    \\x1b[0m\\n                                        start      read end\\x1b[0m\\n  \\x1b[4mSet                                   %ID        %ID     \\x1b[0m\\n  \\x1b[32mSQK-NSK007                               100.0       77.3\\x1b[0m\\n  Rapid                                     65.5        0.0\\n  SQK-MAP006                                76.7       78.3\\n  SQK-MAP006 Short                          76.9       75.0\\n  PCR adapters 1                            76.0       78.3\\n  \\x1b[32mBarcode 1 (reverse)                       83.3       92.3\\x1b[0m\\n  \\x1b[32mBarcode 2 (reverse)                      100.0      100.0\\x1b[0m\\n  Barcode 3 (reverse)                       75.0       73.1\\n  Barcode 4 (reverse)                       75.0       76.9\\n  Barcode 5 (reverse)                       80.8       76.9\\n  Barcode 6 (reverse)                       76.0       77.8\\n  Barcode 7 (reverse)                       77.8       76.0\\n  Barcode 8 (reverse)                       80.0       76.9\\n  Barcode 9 (reverse)                       76.0       76.9\\n  Barcode 10 (reverse)                      76.0       75.0\\n  \\x1b[32mBarcode 11 (reverse)                      80.0       91.7\\x1b[0m\\n  Barcode 12 (reverse)                      87.5       75.0\\n  Barcode 1 (forward)                       76.9       75.0\\n  Barcode 2 (forward)                       76.0       83.3\\n  Barcode 3 (forward)                       76.0       74.1\\n  Barcode 4 (forward)                       76.0       79.2\\n  Barcode 5 (forward)                       75.0       75.0\\n  Barcode 6 (forward)                       78.6       80.0\\n  Barcode 7 (forward)                       76.9       75.0\\n  Barcode 8 (forward)                       76.9       80.0\\n  Barcode 9 (forward)                       76.0       76.0\\n  Barcode 10 (forward)                      76.0       76.0\\n  Barcode 11 (forward)                      80.0       73.1\\n  Barcode 12 (forward)                      76.0       79.2\\n  Barcode 13 (forward)                      76.0       76.0\\n  Barcode 14 (forward)                      74.1       76.0\\n  Barcode 15 (forward)                      77.8       76.0\\n  Barcode 16 (forward)                      79.2       79.2\\n  Barcode 17 (forward)                      75.0       77.8\\n  Barcode 18 (forward)                      79.2       79.2\\n  Barcode 19 (forward)                      77.8       80.0\\n  Barcode 20 (forward)                      75.0       76.9\\n  Barcode 21 (forward)                      75.0       76.0\\n  Barcode 22 (forward)                      77.8       76.0\\n  Barcode 23 (forward)                      80.0       83.3\\n  Barcode 24 (forward)                      77.8       77.8\\n  Barcode 25 (forward)                      81.5       80.0\\n  Barcode 26 (forward)                      76.0       80.0\\n  Barcode 27 (forward)                      76.0       75.0\\n  Barcode 28 (forward)                      75.0       76.0\\n  Barcode 29 (forward)                      76.9       76.9\\n  Barcode 30 (forward)                      76.9       76.0\\n  Barcode 31 (forward)                      79.2       76.9\\n  Barcode 32 (forward)                      76.0       79.2\\n  Barcode 33 (forward)                      78.6       75.0\\n  Barcode 34 (forward)                      80.0       76.0\\n  Barcode 35 (forward)                      76.9       79.2\\n  Barcode 36 (forward)                      73.1       75.0\\n  Barcode 37 (forward)                      76.0       76.0\\n  Barcode 38 (forward)                      74.1       76.9\\n  Barcode 39 (forward)                      76.9       76.0\\n  Barcode 40 (forward)                      73.1       76.0\\n  Barcode 41 (forward)                      75.0       76.0\\n  Barcode 42 (forward)                      73.1       76.9\\n  Barcode 43 (forward)                      76.0       79.2\\n  Barcode 44 (forward)                      74.1       73.1\\n  Barcode 45 (forward)                      75.0       79.2\\n  Barcode 46 (forward)                      76.0       80.0\\n  Barcode 47 (forward)                      76.0       75.9\\n  Barcode 48 (forward)                      75.0       76.0\\n  Barcode 49 (forward)                      76.0       76.0\\n  Barcode 50 (forward)                      75.0       76.9\\n  Barcode 51 (forward)                      76.0       76.0\\n  Barcode 52 (forward)                      76.9       79.2\\n  Barcode 53 (forward)                      79.2       78.6\\n  Barcode 54 (forward)                      75.0       76.9\\n  Barcode 55 (forward)                      73.1       76.0\\n  Barcode 56 (forward)                      75.0       79.2\\n  Barcode 57 (forward)                      72.0       75.9\\n  Barcode 58 (forward)                      79.2       76.0\\n  Barcode 59 (forward)                      76.9       75.0\\n  Barcode 60 (forward)                      75.0       75.0\\n  Barcode 61 (forward)                      76.0       75.0\\n  Barcode 62 (forward)                      76.0       76.9\\n  Barcode 63 (forward)                      75.0       74.1\\n  Barcode 64 (forward)                      84.0       80.0\\n  Barcode 65 (forward)                      75.0       76.9\\n  Barcode 66 (forward)                      83.3       83.3\\n  Barcode 67 (forward)                      73.1       75.0\\n  Barcode 68 (forward)                      76.0       76.0\\n  Barcode 69 (forward)                      73.1       76.9\\n  Barcode 70 (forward)                      76.0       76.9\\n  Barcode 71 (forward)                      76.0       76.0\\n  Barcode 72 (forward)                      76.0       76.0\\n  Barcode 73 (forward)                      84.0       80.8\\n  Barcode 74 (forward)                      76.0       76.0\\n  Barcode 75 (forward)                      75.0       75.0\\n  Barcode 76 (forward)                      76.9       76.0\\n  Barcode 77 (forward)                      79.2       76.0\\n  Barcode 78 (forward)                      76.9       76.0\\n  Barcode 79 (forward)                      80.8       79.2\\n  Barcode 80 (forward)                      76.9       76.9\\n  Barcode 81 (forward)                      80.8       76.9\\n  Barcode 82 (forward)                      75.0       77.8\\n  Barcode 83 (forward)                      76.0       76.0\\n  Barcode 84 (forward)                      76.0       75.0\\n  Barcode 85 (forward)                      76.0       76.0\\n  Barcode 86 (forward)                      74.1       76.0\\n  Barcode 87 (forward)                      74.1       74.1\\n  Barcode 88 (forward)                      75.0       76.0\\n  Barcode 89 (forward)                      79.2       79.2\\n  Barcode 90 (forward)                      76.0       79.2\\n  Barcode 91 (forward)                      76.0       76.9\\n  Barcode 92 (forward)                      79.2       80.0\\n  Barcode 93 (forward)                      79.2       76.0\\n  Barcode 94 (forward)                      83.3       76.9\\n  Barcode 95 (forward)                      79.2       76.9\\n  Barcode 96 (forward)                      75.0       73.1\\n\\n\\n\\x1b[1m\\x1b[4mTrimming adapters from read ends\\x1b[0m\\n     SQK-NSK007_Y_Top: \\x1b[31mAATGTACTTCGTTCAGTTACGTATTGCT\\x1b[0m\\n  SQK-NSK007_Y_Bottom: \\x1b[31mGCAATACGTAACTGAACGAAGT\\x1b[0m\\n             BC01_rev: \\x1b[31mCACAAAGACACCGACAACTTTCTT\\x1b[0m\\n                 BC01: \\x1b[31mAAGAAAGTTGTCGGTGTCTTTGTG\\x1b[0m\\n             BC02_rev: \\x1b[31mACAGACGACTACAAACGGAATCGA\\x1b[0m\\n                 BC02: \\x1b[31mTCGATTCCGTTTGTAGTCGTCTGT\\x1b[0m\\n             BC11_rev: \\x1b[31mTCCATTCCCTCCGATAGATGAAAC\\x1b[0m\\n                 BC11: \\x1b[31mGTTTCATCTATCGGAGGGAATGGA\\x1b[0m\\n           NB01_start: \\x1b[31mAATGTACTTCGTTCAGTTACGTATTGCTAAAGGTTAACACAAAGACACCGACAACTTTCTTCAGCACC\\x1b[0m\\n             NB01_end: \\x1b[31mGGTGCTGAAGAAAGTTGTCGGTGTCTTTGTGTTAACCTTTGCAATACGTAACTGAACGAAGT\\x1b[0m\\n           NB02_start: \\x1b[31mAATGTACTTCGTTCAGTTACGTATTGCTAAAGGTTAAACAGACGACTACAAACGGAATCGACAGCACC\\x1b[0m\\n             NB02_end: \\x1b[31mGGTGCTGTCGATTCCGTTTGTAGTCGTCTGTTTAACCTTTGCAATACGTAACTGAACGAAGT\\x1b[0m\\n           NB11_start: \\x1b[31mAATGTACTTCGTTCAGTTACGTATTGCTAAAGGTTAATCCATTCCCTCCGATAGATGAAACCAGCACC\\x1b[0m\\n             NB11_end: \\x1b[31mGGTGCTGGTTTCATCTATCGGAGGGAATGGATTAACCTTTGCAATACGTAACTGAACGAAGT\\x1b[0m\\n\\n4055 / 4379 reads had adapters trimmed from their start (226119 bp removed)\\n2712 / 4379 reads had adapters trimmed from their end (127027 bp removed)\\n\\n\\n\\x1b[1m\\x1b[4mDiscarding reads containing middle adapters\\x1b[0m\\n5aa92952-6ed1-4f1b-8179-c7fb9c460bc5 runid=b955262580690dbd8e517a333e4c683404484580 read=4147 ch=136 start_time=2017-07-09T02:44:42Z barcode=barcode02\\n  BC02_rev (read coords: 338-361, identity: 91.7%)\\n\\n666cf474-d890-412e-b3d2-3f8138219e0f runid=b955262580690dbd8e517a333e4c683404484580 read=1660 ch=349 start_time=2017-07-08T11:54:00Z barcode=barcode02\\n  BC02_rev (read coords: 274-298, identity: 88.0%)\\n\\n6fc2be59-a16d-463f-8d4d-47cba9300b88 runid=b955262580690dbd8e517a333e4c683404484580 read=2179 ch=68 start_time=2017-07-08T12:05:36Z barcode=barcode02\\n  BC02_rev (read coords: 309-334, identity: 88.5%)\\n\\ndff7f296-7235-4144-a658-d44d6e7648df runid=b955262580690dbd8e517a333e4c683404484580 read=26018 ch=427 start_time=2017-07-08T20:18:45Z barcode=barcode02\\n  BC02_rev (read coords: 231-255, identity: 95.8%)\\n\\nac06477d-6ae7-4e43-875e-702355128a49 runid=b955262580690dbd8e517a333e4c683404484580 read=12806 ch=431 start_time=2017-07-08T21:07:11Z barcode=barcode02\\n  BC02_rev (read coords: 155-182, identity: 88.9%)\\n\\n3ad33d2c-b2bf-4e56-8904-7c5684242c43 runid=b955262580690dbd8e517a333e4c683404484580 read=3749 ch=164 start_time=2017-07-08T14:00:08Z barcode=barcode02\\n  BC02_rev (read coords: 403-428, identity: 96.0%)\\n\\n4510374c-fd64-429b-a4f2-fc3a66552ac4 runid=b955262580690dbd8e517a333e4c683404484580 read=70125 ch=351 start_time=2017-07-09T20:00:07Z barcode=barcode02\\n  BC02_rev (read coords: 462-484, identity: 87.5%)\\n\\n7 / 4379 reads were discarded based on middle adapters\\n\\n\\nSaved result to /data/Bioinfo/bioinfo-proj-alexis/2017_07_09_PLASMIDS_BARCODED/trimmed/JB1.all.trimmed.fastq\\n\\n', '')\n"
     ]
    },
    {
     "name": "stdout",
     "output_type": "stream",
     "text": [
      "('\\n\\x1b[1m\\x1b[4mLooking for known adapter sets\\x1b[0m\\n                                        Best               \\x1b[0m\\n                                        read       Best    \\x1b[0m\\n                                        start      read end\\x1b[0m\\n  \\x1b[4mSet                                   %ID        %ID     \\x1b[0m\\n  \\x1b[32mSQK-NSK007                                92.9       81.8\\x1b[0m\\n  Rapid                                     65.0        0.0\\n  SQK-MAP006                                77.4       76.0\\n  SQK-MAP006 Short                          74.1       72.0\\n  PCR adapters 1                            75.0       75.0\\n  \\x1b[32mBarcode 1 (reverse)                      100.0      100.0\\x1b[0m\\n  \\x1b[32mBarcode 2 (reverse)                      100.0       84.6\\x1b[0m\\n  Barcode 3 (reverse)                       75.0       72.0\\n  Barcode 4 (reverse)                       74.1       70.4\\n  Barcode 5 (reverse)                       80.0       78.6\\n  Barcode 6 (reverse)                       72.0       75.0\\n  Barcode 7 (reverse)                       70.8       73.1\\n  Barcode 8 (reverse)                       76.0       73.1\\n  Barcode 9 (reverse)                       70.4       76.0\\n  Barcode 10 (reverse)                      70.4       72.4\\n  Barcode 11 (reverse)                      84.0       73.1\\n  Barcode 12 (reverse)                      73.1       75.0\\n  Barcode 1 (forward)                       73.1       72.0\\n  Barcode 2 (forward)                       75.0       69.2\\n  Barcode 3 (forward)                       72.0       73.1\\n  Barcode 4 (forward)                       75.0       70.8\\n  Barcode 5 (forward)                       70.8       75.9\\n  Barcode 6 (forward)                       70.8       70.8\\n  Barcode 7 (forward)                       71.4       71.4\\n  Barcode 8 (forward)                       74.1       71.4\\n  Barcode 9 (forward)                       72.0       72.0\\n  Barcode 10 (forward)                      71.4       71.4\\n  Barcode 11 (forward)                      70.8       75.0\\n  Barcode 12 (forward)                      73.1       74.1\\n  Barcode 13 (forward)                      72.0       76.0\\n  Barcode 14 (forward)                      73.1       72.0\\n  Barcode 15 (forward)                      75.0       71.4\\n  Barcode 16 (forward)                      72.0       74.1\\n  Barcode 17 (forward)                      74.1       70.4\\n  Barcode 18 (forward)                      73.1       75.0\\n  Barcode 19 (forward)                      73.1       75.0\\n  Barcode 20 (forward)                      73.1       73.1\\n  Barcode 21 (forward)                      76.9       72.0\\n  Barcode 22 (forward)                      73.1       71.4\\n  Barcode 23 (forward)                      69.2       75.9\\n  Barcode 24 (forward)                      73.1       72.0\\n  Barcode 25 (forward)                      75.0       77.8\\n  Barcode 26 (forward)                      74.1       72.0\\n  Barcode 27 (forward)                      72.0       75.0\\n  Barcode 28 (forward)                      76.0       74.1\\n  Barcode 29 (forward)                      73.1       70.8\\n  Barcode 30 (forward)                      70.4       74.1\\n  Barcode 31 (forward)                      73.1       75.9\\n  Barcode 32 (forward)                      76.0       74.1\\n  Barcode 33 (forward)                      75.0       72.0\\n  Barcode 34 (forward)                      76.0       76.0\\n  Barcode 35 (forward)                      75.0       76.9\\n  Barcode 36 (forward)                      71.4       73.1\\n  Barcode 37 (forward)                      73.1       75.0\\n  Barcode 38 (forward)                      72.0       73.1\\n  Barcode 39 (forward)                      70.8       70.4\\n  Barcode 40 (forward)                      73.1       76.0\\n  Barcode 41 (forward)                      73.1       70.8\\n  Barcode 42 (forward)                      72.0       72.0\\n  Barcode 43 (forward)                      70.8       72.4\\n  Barcode 44 (forward)                      71.4       72.4\\n  Barcode 45 (forward)                      71.4       71.4\\n  Barcode 46 (forward)                      74.1       74.1\\n  Barcode 47 (forward)                      72.4       72.0\\n  Barcode 48 (forward)                      72.0       70.8\\n  Barcode 49 (forward)                      72.4       72.0\\n  Barcode 50 (forward)                      70.8       73.1\\n  Barcode 51 (forward)                      72.0       72.0\\n  Barcode 52 (forward)                      68.0       70.8\\n  Barcode 53 (forward)                      72.0       74.1\\n  Barcode 54 (forward)                      71.4       73.1\\n  Barcode 55 (forward)                      72.0       72.0\\n  Barcode 56 (forward)                      76.9       73.1\\n  Barcode 57 (forward)                      72.4       72.0\\n  Barcode 58 (forward)                      70.8       71.4\\n  Barcode 59 (forward)                      75.0       72.0\\n  Barcode 60 (forward)                      76.0       72.0\\n  Barcode 61 (forward)                      70.8       75.0\\n  Barcode 62 (forward)                      80.8       80.0\\n  Barcode 63 (forward)                      72.0       72.0\\n  Barcode 64 (forward)                      79.2       75.0\\n  Barcode 65 (forward)                      80.0       76.0\\n  Barcode 66 (forward)                      70.4       74.1\\n  Barcode 67 (forward)                      69.2       75.0\\n  Barcode 68 (forward)                      72.0       75.0\\n  Barcode 69 (forward)                      73.1       74.1\\n  Barcode 70 (forward)                      73.1       72.4\\n  Barcode 71 (forward)                      70.8       74.1\\n  Barcode 72 (forward)                      70.8       75.0\\n  Barcode 73 (forward)                      73.1       72.0\\n  Barcode 74 (forward)                      76.0       75.0\\n  Barcode 75 (forward)                      74.1       75.0\\n  Barcode 76 (forward)                      73.1       75.0\\n  Barcode 77 (forward)                      72.0       72.0\\n  Barcode 78 (forward)                      75.0       75.0\\n  Barcode 79 (forward)                      76.0       75.0\\n  Barcode 80 (forward)                      74.1       74.1\\n  Barcode 81 (forward)                      72.0       75.0\\n  Barcode 82 (forward)                      73.1       76.0\\n  Barcode 83 (forward)                      72.0       72.0\\n  Barcode 84 (forward)                      73.1       70.8\\n  Barcode 85 (forward)                      73.1       70.8\\n  Barcode 86 (forward)                      70.4       72.0\\n  Barcode 87 (forward)                      69.2       70.4\\n  Barcode 88 (forward)                      73.1       73.1\\n  Barcode 89 (forward)                      71.4       75.0\\n  Barcode 90 (forward)                      69.2       73.1\\n  Barcode 91 (forward)                      69.2       75.0\\n  Barcode 92 (forward)                      74.1       73.1\\n  Barcode 93 (forward)                      73.1       73.1\\n  Barcode 94 (forward)                      72.0       72.0\\n  Barcode 95 (forward)                      73.1       73.1\\n  Barcode 96 (forward)                      71.0       72.0\\n\\n\\n\\x1b[1m\\x1b[4mTrimming adapters from read ends\\x1b[0m\\n     SQK-NSK007_Y_Top: \\x1b[31mAATGTACTTCGTTCAGTTACGTATTGCT\\x1b[0m\\n  SQK-NSK007_Y_Bottom: \\x1b[31mGCAATACGTAACTGAACGAAGT\\x1b[0m\\n             BC01_rev: \\x1b[31mCACAAAGACACCGACAACTTTCTT\\x1b[0m\\n                 BC01: \\x1b[31mAAGAAAGTTGTCGGTGTCTTTGTG\\x1b[0m\\n             BC02_rev: \\x1b[31mACAGACGACTACAAACGGAATCGA\\x1b[0m\\n                 BC02: \\x1b[31mTCGATTCCGTTTGTAGTCGTCTGT\\x1b[0m\\n           NB01_start: \\x1b[31mAATGTACTTCGTTCAGTTACGTATTGCTAAAGGTTAACACAAAGACACCGACAACTTTCTTCAGCACC\\x1b[0m\\n             NB01_end: \\x1b[31mGGTGCTGAAGAAAGTTGTCGGTGTCTTTGTGTTAACCTTTGCAATACGTAACTGAACGAAGT\\x1b[0m\\n           NB02_start: \\x1b[31mAATGTACTTCGTTCAGTTACGTATTGCTAAAGGTTAAACAGACGACTACAAACGGAATCGACAGCACC\\x1b[0m\\n             NB02_end: \\x1b[31mGGTGCTGTCGATTCCGTTTGTAGTCGTCTGTTTAACCTTTGCAATACGTAACTGAACGAAGT\\x1b[0m\\n\\n340 / 392 reads had adapters trimmed from their start (19293 bp removed)\\n209 / 392 reads had adapters trimmed from their end (9293 bp removed)\\n\\n\\n\\x1b[1m\\x1b[4mDiscarding reads containing middle adapters\\x1b[0m\\n0 / 392 reads were discarded based on middle adapters\\n\\n\\nSaved result to /data/Bioinfo/bioinfo-proj-alexis/2017_07_09_PLASMIDS_BARCODED/trimmed/JB2.all.trimmed.fastq\\n\\n', '')\n"
     ]
    },
    {
     "name": "stdout",
     "output_type": "stream",
     "text": [
      "('\\n\\x1b[1m\\x1b[4mLooking for known adapter sets\\x1b[0m\\n                                        Best               \\x1b[0m\\n                                        read       Best    \\x1b[0m\\n                                        start      read end\\x1b[0m\\n  \\x1b[4mSet                                   %ID        %ID     \\x1b[0m\\n  \\x1b[32mSQK-NSK007                                92.9       75.0\\x1b[0m\\n  Rapid                                     61.9        0.0\\n  SQK-MAP006                                71.9       76.0\\n  SQK-MAP006 Short                          71.4       69.2\\n  PCR adapters 1                            77.3       75.0\\n  Barcode 1 (reverse)                       73.1       73.1\\n  Barcode 2 (reverse)                       70.8       70.4\\n  Barcode 3 (reverse)                       72.0       72.0\\n  Barcode 4 (reverse)                       65.6       69.2\\n  Barcode 5 (reverse)                       76.0       72.0\\n  Barcode 6 (reverse)                       79.2       70.8\\n  \\x1b[32mBarcode 7 (reverse)                      100.0      100.0\\x1b[0m\\n  \\x1b[32mBarcode 8 (reverse)                       69.2       95.8\\x1b[0m\\n  Barcode 9 (reverse)                       76.0       73.1\\n  Barcode 10 (reverse)                      70.8       72.0\\n  Barcode 11 (reverse)                      69.2       72.0\\n  Barcode 12 (reverse)                      70.8       72.0\\n  Barcode 1 (forward)                       66.7       70.8\\n  Barcode 2 (forward)                       72.0       71.4\\n  Barcode 3 (forward)                       70.4       75.0\\n  Barcode 4 (forward)                       70.8       70.8\\n  Barcode 5 (forward)                       73.1       75.0\\n  Barcode 6 (forward)                       72.0       70.8\\n  Barcode 7 (forward)                       67.9       75.0\\n  Barcode 8 (forward)                       70.4       72.0\\n  Barcode 9 (forward)                       73.1       72.0\\n  Barcode 10 (forward)                      70.8       69.0\\n  Barcode 11 (forward)                      69.0       70.4\\n  Barcode 12 (forward)                      68.0       72.0\\n  Barcode 13 (forward)                      70.8       76.0\\n  Barcode 14 (forward)                      69.2       70.4\\n  Barcode 15 (forward)                      73.1       72.4\\n  Barcode 16 (forward)                      72.0       70.8\\n  Barcode 17 (forward)                      69.2       72.0\\n  Barcode 18 (forward)                      72.4       75.0\\n  Barcode 19 (forward)                      70.8       74.1\\n  Barcode 20 (forward)                      72.0       72.0\\n  Barcode 21 (forward)                      72.0       71.4\\n  Barcode 22 (forward)                      69.2       75.0\\n  Barcode 23 (forward)                      68.0       72.0\\n  Barcode 24 (forward)                      73.1       73.1\\n  Barcode 25 (forward)                      72.0       70.4\\n  Barcode 26 (forward)                      72.0       71.4\\n  Barcode 27 (forward)                      73.1       71.4\\n  Barcode 28 (forward)                      70.4       73.1\\n  Barcode 29 (forward)                      76.0       73.1\\n  Barcode 30 (forward)                      73.1       70.4\\n  Barcode 31 (forward)                      73.1       69.2\\n  Barcode 32 (forward)                      70.8       70.4\\n  Barcode 33 (forward)                      69.2       69.2\\n  Barcode 34 (forward)                      71.4       70.8\\n  Barcode 35 (forward)                      73.1       69.2\\n  Barcode 36 (forward)                      68.0       68.0\\n  Barcode 37 (forward)                      75.0       72.4\\n  Barcode 38 (forward)                      72.0       67.9\\n  Barcode 39 (forward)                      70.4       70.4\\n  Barcode 40 (forward)                      70.8       70.8\\n  Barcode 41 (forward)                      72.0       70.4\\n  Barcode 42 (forward)                      72.0       76.0\\n  Barcode 43 (forward)                      72.0       73.1\\n  Barcode 44 (forward)                      75.0       73.1\\n  Barcode 45 (forward)                      74.1       70.8\\n  Barcode 46 (forward)                      75.0       75.0\\n  Barcode 47 (forward)                      72.0       70.8\\n  Barcode 48 (forward)                      66.7       72.0\\n  Barcode 49 (forward)                      72.0       72.0\\n  Barcode 50 (forward)                      72.0       70.4\\n  Barcode 51 (forward)                      76.9       71.4\\n  Barcode 52 (forward)                      72.0       72.0\\n  Barcode 53 (forward)                      73.1       73.1\\n  Barcode 54 (forward)                      70.8       69.2\\n  Barcode 55 (forward)                      70.4       70.8\\n  Barcode 56 (forward)                      68.0       72.0\\n  Barcode 57 (forward)                      67.9       74.1\\n  Barcode 58 (forward)                      72.0       72.0\\n  Barcode 59 (forward)                      66.7       71.4\\n  Barcode 60 (forward)                      72.0       72.0\\n  Barcode 61 (forward)                      70.4       70.8\\n  Barcode 62 (forward)                      76.9       72.0\\n  Barcode 63 (forward)                      70.8       69.2\\n  Barcode 64 (forward)                      75.0       73.1\\n  Barcode 65 (forward)                      69.0       72.0\\n  Barcode 66 (forward)                      70.4       73.1\\n  Barcode 67 (forward)                      68.0       70.4\\n  Barcode 68 (forward)                      72.0       70.8\\n  Barcode 69 (forward)                      72.0       72.0\\n  Barcode 70 (forward)                      71.4       70.4\\n  Barcode 71 (forward)                      70.4       73.1\\n  Barcode 72 (forward)                      72.0       75.0\\n  Barcode 73 (forward)                      72.4       71.4\\n  Barcode 74 (forward)                      70.4       70.0\\n  Barcode 75 (forward)                      70.4       67.9\\n  Barcode 76 (forward)                      73.1       69.2\\n  Barcode 77 (forward)                      72.0       73.1\\n  Barcode 78 (forward)                      72.0       70.4\\n  Barcode 79 (forward)                      76.0       75.0\\n  Barcode 80 (forward)                      70.8       69.2\\n  Barcode 81 (forward)                      76.9       69.2\\n  Barcode 82 (forward)                      70.8       72.0\\n  Barcode 83 (forward)                      70.4       68.0\\n  Barcode 84 (forward)                      71.4       72.0\\n  Barcode 85 (forward)                      69.0       69.2\\n  Barcode 86 (forward)                      69.2       68.0\\n  Barcode 87 (forward)                      68.0       69.2\\n  Barcode 88 (forward)                      72.0       74.1\\n  Barcode 89 (forward)                      72.0       73.1\\n  Barcode 90 (forward)                      70.4       71.4\\n  Barcode 91 (forward)                      74.1       70.8\\n  Barcode 92 (forward)                      75.0       72.0\\n  Barcode 93 (forward)                      72.0       69.2\\n  Barcode 94 (forward)                      73.1       75.0\\n  Barcode 95 (forward)                      72.0       70.4\\n  Barcode 96 (forward)                      75.0       72.0\\n\\n\\n\\x1b[1m\\x1b[4mTrimming adapters from read ends\\x1b[0m\\n     SQK-NSK007_Y_Top: \\x1b[31mAATGTACTTCGTTCAGTTACGTATTGCT\\x1b[0m\\n  SQK-NSK007_Y_Bottom: \\x1b[31mGCAATACGTAACTGAACGAAGT\\x1b[0m\\n             BC07_rev: \\x1b[31mAAGGATTCATTCCCACGGTAACAC\\x1b[0m\\n                 BC07: \\x1b[31mGTGTTACCGTGGGAATGAATCCTT\\x1b[0m\\n             BC08_rev: \\x1b[31mACGTAACTTGGTTTGTTCCCTGAA\\x1b[0m\\n                 BC08: \\x1b[31mTTCAGGGAACAAACCAAGTTACGT\\x1b[0m\\n           NB07_start: \\x1b[31mAATGTACTTCGTTCAGTTACGTATTGCTAAAGGTTAAAAGGATTCATTCCCACGGTAACACCAGCACC\\x1b[0m\\n             NB07_end: \\x1b[31mGGTGCTGGTGTTACCGTGGGAATGAATCCTTTTAACCTTTGCAATACGTAACTGAACGAAGT\\x1b[0m\\n           NB08_start: \\x1b[31mAATGTACTTCGTTCAGTTACGTATTGCTAAAGGTTAAACGTAACTTGGTTTGTTCCCTGAACAGCACC\\x1b[0m\\n             NB08_end: \\x1b[31mGGTGCTGTTCAGGGAACAAACCAAGTTACGTTTAACCTTTGCAATACGTAACTGAACGAAGT\\x1b[0m\\n\\n127 / 146 reads had adapters trimmed from their start (6834 bp removed)\\n 82 / 146 reads had adapters trimmed from their end (3572 bp removed)\\n\\n\\n\\x1b[1m\\x1b[4mDiscarding reads containing middle adapters\\x1b[0m\\n0 / 146 reads were discarded based on middle adapters\\n\\n\\nSaved result to /data/Bioinfo/bioinfo-proj-alexis/2017_07_09_PLASMIDS_BARCODED/trimmed/YHC7.all.trimmed.fastq\\n\\n', '')\n"
     ]
    },
    {
     "name": "stdout",
     "output_type": "stream",
     "text": [
      "('\\n\\x1b[1m\\x1b[4mLooking for known adapter sets\\x1b[0m\\n                                        Best               \\x1b[0m\\n                                        read       Best    \\x1b[0m\\n                                        start      read end\\x1b[0m\\n  \\x1b[4mSet                                   %ID        %ID     \\x1b[0m\\n  \\x1b[32mSQK-NSK007                                92.9       72.0\\x1b[0m\\n  Rapid                                     60.7        0.0\\n  SQK-MAP006                                71.0       72.0\\n  SQK-MAP006 Short                          69.2       66.7\\n  PCR adapters 1                            70.8       72.7\\n  Barcode 1 (reverse)                       69.2       68.0\\n  Barcode 2 (reverse)                       70.4       69.2\\n  Barcode 3 (reverse)                       69.2       70.4\\n  Barcode 4 (reverse)                       69.2       72.0\\n  Barcode 5 (reverse)                       67.9       71.4\\n  \\x1b[32mBarcode 6 (reverse)                      100.0      100.0\\x1b[0m\\n  Barcode 7 (reverse)                       66.7       70.8\\n  \\x1b[32mBarcode 8 (reverse)                       82.1       95.8\\x1b[0m\\n  Barcode 9 (reverse)                       72.0       73.1\\n  Barcode 10 (reverse)                      72.0       72.0\\n  Barcode 11 (reverse)                      66.7       68.0\\n  Barcode 12 (reverse)                      70.8       72.0\\n  Barcode 1 (forward)                       81.5       70.8\\n  Barcode 2 (forward)                       70.0       73.1\\n  Barcode 3 (forward)                       68.0       69.2\\n  Barcode 4 (forward)                       69.2       66.7\\n  Barcode 5 (forward)                       71.4       70.4\\n  Barcode 6 (forward)                       80.0       84.6\\n  Barcode 7 (forward)                       66.7       70.8\\n  Barcode 8 (forward)                       72.0       66.7\\n  Barcode 9 (forward)                       68.0       69.2\\n  Barcode 10 (forward)                      71.4       74.1\\n  Barcode 11 (forward)                      66.7       68.0\\n  Barcode 12 (forward)                      68.0       73.1\\n  Barcode 13 (forward)                      72.0       70.4\\n  Barcode 14 (forward)                      68.0       72.0\\n  Barcode 15 (forward)                      69.2       66.7\\n  Barcode 16 (forward)                      73.1       69.2\\n  Barcode 17 (forward)                      67.9       71.4\\n  Barcode 18 (forward)                      66.7       68.0\\n  Barcode 19 (forward)                      70.8       73.1\\n  Barcode 20 (forward)                      73.1       72.0\\n  Barcode 21 (forward)                      68.0       69.2\\n  Barcode 22 (forward)                      68.0       68.0\\n  Barcode 23 (forward)                      66.7       66.7\\n  Barcode 24 (forward)                      71.4       72.0\\n  Barcode 25 (forward)                      72.0       72.0\\n  Barcode 26 (forward)                      68.0       69.2\\n  Barcode 27 (forward)                      70.0       70.8\\n  Barcode 28 (forward)                      66.7       66.7\\n  Barcode 29 (forward)                      68.0       67.9\\n  Barcode 30 (forward)                      72.0       70.8\\n  Barcode 31 (forward)                      76.9       75.0\\n  Barcode 32 (forward)                      70.8       66.7\\n  Barcode 33 (forward)                      70.8       66.7\\n  Barcode 34 (forward)                      69.2       72.0\\n  Barcode 35 (forward)                      68.0       70.8\\n  Barcode 36 (forward)                      68.0       73.1\\n  Barcode 37 (forward)                      72.0       70.4\\n  Barcode 38 (forward)                      72.0       72.0\\n  Barcode 39 (forward)                      69.0       70.0\\n  Barcode 40 (forward)                      70.8       68.0\\n  Barcode 41 (forward)                      72.0       70.8\\n  Barcode 42 (forward)                      70.4       69.2\\n  Barcode 43 (forward)                      66.7       70.4\\n  Barcode 44 (forward)                      65.4       66.7\\n  Barcode 45 (forward)                      71.4       79.2\\n  Barcode 46 (forward)                      72.4       72.0\\n  Barcode 47 (forward)                      68.0       68.0\\n  Barcode 48 (forward)                      69.0       68.0\\n  Barcode 49 (forward)                      69.2       73.1\\n  Barcode 50 (forward)                      69.2       69.2\\n  Barcode 51 (forward)                      72.0       70.8\\n  Barcode 52 (forward)                      68.0       72.0\\n  Barcode 53 (forward)                      69.2       72.0\\n  Barcode 54 (forward)                      70.4       73.1\\n  Barcode 55 (forward)                      70.8       69.2\\n  Barcode 56 (forward)                      70.4       73.1\\n  Barcode 57 (forward)                      70.8       70.4\\n  Barcode 58 (forward)                      73.1       70.8\\n  Barcode 59 (forward)                      68.0       68.0\\n  Barcode 60 (forward)                      69.2       73.1\\n  Barcode 61 (forward)                      69.2       68.0\\n  Barcode 62 (forward)                      69.2       68.0\\n  Barcode 63 (forward)                      69.2       72.0\\n  Barcode 64 (forward)                      71.4       73.1\\n  Barcode 65 (forward)                      68.0       69.2\\n  Barcode 66 (forward)                      67.9       70.4\\n  Barcode 67 (forward)                      70.8       70.8\\n  Barcode 68 (forward)                      72.0       70.4\\n  Barcode 69 (forward)                      70.4       75.0\\n  Barcode 70 (forward)                      69.2       68.0\\n  Barcode 71 (forward)                      76.0       68.0\\n  Barcode 72 (forward)                      72.0       70.8\\n  Barcode 73 (forward)                      68.0       69.2\\n  Barcode 74 (forward)                      68.8       67.9\\n  Barcode 75 (forward)                      65.6       68.0\\n  Barcode 76 (forward)                      76.9       68.0\\n  Barcode 77 (forward)                      68.0       72.4\\n  Barcode 78 (forward)                      68.0       75.0\\n  Barcode 79 (forward)                      68.0       70.4\\n  Barcode 80 (forward)                      70.4       68.0\\n  Barcode 81 (forward)                      68.0       70.4\\n  Barcode 82 (forward)                      73.1       73.1\\n  Barcode 83 (forward)                      73.1       67.9\\n  Barcode 84 (forward)                      66.7       68.0\\n  Barcode 85 (forward)                      70.8       69.2\\n  Barcode 86 (forward)                      72.0       70.4\\n  Barcode 87 (forward)                      73.1       70.8\\n  Barcode 88 (forward)                      68.0       69.2\\n  Barcode 89 (forward)                      68.0       72.0\\n  Barcode 90 (forward)                      64.3       76.9\\n  Barcode 91 (forward)                      67.9       72.0\\n  Barcode 92 (forward)                      71.4       75.0\\n  Barcode 93 (forward)                      70.8       71.4\\n  Barcode 94 (forward)                      70.8       76.0\\n  Barcode 95 (forward)                      72.0       70.4\\n  Barcode 96 (forward)                      68.0       72.0\\n\\n\\n\\x1b[1m\\x1b[4mTrimming adapters from read ends\\x1b[0m\\n     SQK-NSK007_Y_Top: \\x1b[31mAATGTACTTCGTTCAGTTACGTATTGCT\\x1b[0m\\n  SQK-NSK007_Y_Bottom: \\x1b[31mGCAATACGTAACTGAACGAAGT\\x1b[0m\\n             BC06_rev: \\x1b[31mGACTACTTTCTGCCTTTGCGAGAA\\x1b[0m\\n                 BC06: \\x1b[31mTTCTCGCAAAGGCAGAAAGTAGTC\\x1b[0m\\n             BC08_rev: \\x1b[31mACGTAACTTGGTTTGTTCCCTGAA\\x1b[0m\\n                 BC08: \\x1b[31mTTCAGGGAACAAACCAAGTTACGT\\x1b[0m\\n           NB06_start: \\x1b[31mAATGTACTTCGTTCAGTTACGTATTGCTAAAGGTTAAGACTACTTTCTGCCTTTGCGAGAACAGCACC\\x1b[0m\\n             NB06_end: \\x1b[31mGGTGCTGTTCTCGCAAAGGCAGAAAGTAGTCTTAACCTTTGCAATACGTAACTGAACGAAGT\\x1b[0m\\n           NB08_start: \\x1b[31mAATGTACTTCGTTCAGTTACGTATTGCTAAAGGTTAAACGTAACTTGGTTTGTTCCCTGAACAGCACC\\x1b[0m\\n             NB08_end: \\x1b[31mGGTGCTGTTCAGGGAACAAACCAAGTTACGTTTAACCTTTGCAATACGTAACTGAACGAAGT\\x1b[0m\\n\\n67 / 77 reads had adapters trimmed from their start (3843 bp removed)\\n48 / 77 reads had adapters trimmed from their end (2274 bp removed)\\n\\n\\n\\x1b[1m\\x1b[4mDiscarding reads containing middle adapters\\x1b[0m\\n0 / 77 reads were discarded based on middle adapters\\n\\n\\nSaved result to /data/Bioinfo/bioinfo-proj-alexis/2017_07_09_PLASMIDS_BARCODED/trimmed/YHC6.all.trimmed.fastq\\n\\n', '')\n"
     ]
    }
   ],
   "source": [
    "### Run porechop on each of the barcode.all files\n",
    "### Convert from barcode names to sample names\n",
    "\n",
    "# Barcoded files\n",
    "concat_fastq_files = [fastq_file for fastq_file in os.listdir(FASTQ_DIR)\n",
    "                     if fastq_file.startswith(\"barcode\")]\n",
    "trimmed_dir = os.path.join(RUN_DIR, \"trimmed\")\n",
    "if not os.path.isdir(trimmed_dir):\n",
    "    os.mkdir(trimmed_dir)\n",
    "    \n",
    "for fastq_file in concat_fastq_files:\n",
    "    # barcode07.all.fastq\n",
    "    output_fastq_file = barcode2sample_dict[fastq_file.split(\".\")[0]] + \".all.trimmed.fastq\"\n",
    "    porechop_command_options = [\"porechop\"]\n",
    "    porechop_command_options.append(\"--input %s\" % os.path.join(FASTQ_DIR, fastq_file))\n",
    "    porechop_command_options.append(\"--discard_middle\")  # Remove any reads with adapters in the middle.\n",
    "    porechop_command_options.append(\"--require_two_barcodes\")  # Remove any reads with adapters in the middle.\n",
    "    porechop_command_options.append(\"--output %s\" % os.path.join(trimmed_dir, output_fastq_file))\n",
    "    porechop_command = ' '.join(porechop_command_options)\n",
    "    # Run through subprocess\n",
    "    porechop_proc = subprocess.Popen(porechop_command, shell=True,\n",
    "                                     stdout=subprocess.PIPE, stderr=subprocess.PIPE)\n",
    "    stdout, stderr = porechop_proc.communicate()\n",
    "    print(stdout, stderr)"
   ]
  },
  {
   "cell_type": "code",
   "execution_count": 7,
   "metadata": {},
   "outputs": [
    {
     "name": "stdout",
     "output_type": "stream",
     "text": [
      "YHC17.all.trimmed.fastq\n",
      "YHC17.all.trimmed.fastq: top 5 mean: 21705. Over 10 reads. reads are: 26923 22132 22090 22090 21669 21557 21060 20027 19884 19620\n",
      "YHC6.all.trimmed.fastq\n",
      "YHC6.all.trimmed.fastq: top 5 mean: 20112. Over 4 reads. reads are: 37138 14579 14408 14326\n",
      "YHC7.all.trimmed.fastq\n",
      "YHC7.all.trimmed.fastq: top 5 mean: 15924. Over 8 reads. reads are: 19173 18436 16460 15427 15298 15181 14069 13351\n",
      "JB1.all.trimmed.fastq\n",
      "JB1.all.trimmed.fastq: top 5 mean: 8894. Over 219 reads. reads are: 22273 21469 16487 15694 15277 13740 13286 13019 12166 12154 11921 11247 11232 10685 9669 9309 9150 9040 8985 8921 8877 8874 8843 8836 8817 8800 8795 8743 8736 8717 8707 8700 8700 8686 8678 8663 8642 8640 8635 8624 8607 8604 8588 8584 8583 8580 8580 8580 8579 8577 8573 8572 8566 8564 8563 8562 8560 8560 8556 8555 8553 8553 8549 8549 8547 8547 8547 8546 8546 8545 8543 8542 8540 8540 8540 8539 8538 8536 8535 8533 8533 8532 8531 8527 8526 8526 8526 8523 8522 8521 8520 8519 8518 8516 8515 8515 8512 8510 8507 8506 8505 8505 8504 8504 8503 8502 8499 8499 8498 8498 8497 8496 8494 8491 8491 8491 8490 8489 8487 8487 8487 8485 8484 8484 8483 8482 8482 8480 8480 8479 8479 8479 8478 8477 8477 8477 8477 8476 8476 8475 8473 8471 8470 8470 8469 8466 8465 8463 8463 8462 8462 8461 8460 8460 8460 8459 8458 8455 8455 8454 8454 8453 8453 8453 8452 8451 8450 8444 8443 8442 8439 8439 8438 8436 8435 8434 8434 8434 8433 8432 8431 8431 8431 8430 8425 8425 8422 8417 8415 8414 8413 8412 8412 8408 8407 8406 8400 8400 8394 8383 8382 8382 8382 8381 8379 8379 8373 8368 8364 8363 8354 8351 8350 8350 8349 8344 8343 8341 8337\n",
      "PTS1.all.trimmed.fastq\n",
      "PTS1.all.trimmed.fastq: top 5 mean: 13987. Over 9 reads. reads are: 26269 23763 15471 13059 12720 9250 8871 8585 7899\n",
      "JB2.all.trimmed.fastq\n",
      "JB2.all.trimmed.fastq: top 5 mean: 12228. Over 20 reads. reads are: 25890 17545 16886 15725 15040 12178 12036 11694 11182 10975 10846 10509 10386 9860 9448 9292 9090 8859 8825 8310\n",
      "PTS2.all.trimmed.fastq\n",
      "PTS2.all.trimmed.fastq: top 5 mean: 13553. Over 6 reads. reads are: 38593 11277 8540 8318 8076 6515\n",
      "YHC8.all.trimmed.fastq\n",
      "YHC8.all.trimmed.fastq: top 5 mean: 27458. Over 12 reads. reads are: 47382 38608 31197 28321 24262 23008 22917 22914 22814 22716 22695 22664\n"
     ]
    }
   ],
   "source": [
    "# Estimate genome size using top five percent of reads.\n",
    "trimmed_fastq_files = [fastq_file for fastq_file in os.listdir(trimmed_dir)\n",
    "                       if fastq_file.endswith(\".fastq\")\n",
    "                       and \"trimmed\" in fastq_file]\n",
    "genome_lengths={}\n",
    "\n",
    "for fastq_file in trimmed_fastq_files:\n",
    "    print(fastq_file)\n",
    "    with open(os.path.join(trimmed_dir, fastq_file), \"rU\") as handle:\n",
    "        record_dict = SeqIO.to_dict(SeqIO.parse(handle, \"fastq\"))\n",
    "    number_reads = len(record_dict)\n",
    "    iterator = 0\n",
    "    number_reads_top5 = number_reads*0.05\n",
    "    cumulative_sum = 0\n",
    "    read_list = []\n",
    "    for id in sorted(record_dict, key=lambda id: len(record_dict[id].seq), reverse=True):\n",
    "        iterator += 1\n",
    "        cumulative_sum += len(record_dict[id].seq)\n",
    "        read_list.append(len(record_dict[id].seq))\n",
    "        if iterator > number_reads_top5:\n",
    "            break\n",
    "            \n",
    "    mean = cumulative_sum/iterator\n",
    "    genome_lengths[fastq_file.split(\".\")[0]] = mean\n",
    "    print(\"%s: top 5 mean: %d. Over %d reads. reads are: %s\" % (fastq_file, mean, iterator, ' '.join(map(str, read_list))))"
   ]
  },
  {
   "cell_type": "code",
   "execution_count": 8,
   "metadata": {
    "scrolled": true
   },
   "outputs": [
    {
     "name": "stdout",
     "output_type": "stream",
     "text": [
      "('-- Canu release v1.5\\nGFA alignments updated.\\n', '')\n",
      "('-- Canu release v1.5\\nGFA alignments updated.\\n', '')\n",
      "('-- Canu release v1.5\\nGFA alignments updated.\\n', '')\n",
      "('-- Canu release v1.5\\nGFA alignments updated.\\n', '')\n",
      "('-- Canu release v1.5\\nGFA alignments updated.\\n', '')\n",
      "('-- Canu release v1.5\\nGFA alignments updated.\\n', '')\n",
      "('-- Canu release v1.5\\nGFA alignments updated.\\n', '')\n",
      "('-- Canu release v1.5\\nGFA alignments updated.\\n', '')\n"
     ]
    }
   ],
   "source": [
    "# Now run canu on each of these commands with the desired genome length\n",
    "canu_dir = os.path.join(RUN_DIR, \"canu\")\n",
    "if not os.path.isdir(canu_dir):\n",
    "    os.mkdir(canu_dir)\n",
    "    \n",
    "for sample, est_genome_length in genome_lengths.iteritems():\n",
    "    sample_canu_dir = os.path.join(canu_dir, sample)\n",
    "    # Delete previous directory and run again.\n",
    "    if os.path.isdir(sample_canu_dir):\n",
    "        shutil.rmtree(sample_canu_dir)\n",
    "    os.mkdir(sample_canu_dir)\n",
    "        \n",
    "    canu_command_options = [\"canu\"]\n",
    "    canu_command_options.append(\"-p %s\" % sample)\n",
    "    canu_command_options.append(\"-d %s\" % sample_canu_dir)\n",
    "    canu_command_options.append(\"genomeSize=%d\" % est_genome_length)\n",
    "    canu_command_options.append(\"useGrid=false\")\n",
    "    canu_command_options.append('stopOnReadQuality=false')\n",
    "    canu_command_options.append(\"-nanopore-raw\")\n",
    "    canu_command_options.append(\"%s.all.trimmed.fastq\" % os.path.join(trimmed_dir, sample))\n",
    "    canu_command_options.append(\"2> %s\" % os.path.join(sample_canu_dir, sample + \".stderr.log\"))\n",
    "    canu_command = ' '.join(canu_command_options)\n",
    "    \n",
    "    canu_proc = subprocess.Popen(canu_command, shell=True,\n",
    "                                 stdout=subprocess.PIPE, stderr=subprocess.PIPE)\n",
    "    stdout, stderr = canu_proc.communicate()\n",
    "    print(stdout, stderr)"
   ]
  },
  {
   "cell_type": "code",
   "execution_count": 9,
   "metadata": {},
   "outputs": [],
   "source": [
    "# Let's grab the first tigID for each sample\n",
    "samples = genome_lengths.iterkeys()\n",
    "\n",
    "canu_length_estimates = {}\n",
    "for sample in samples:\n",
    "    contigFile = os.path.join(canu_dir, sample, sample+\".contigs.fasta\")\n",
    "    if os.stat(contigFile).st_size == 0:\n",
    "        # Failed to form contig, use tigInfoFile to get main contig out of unassembled file\n",
    "        unassembled_fasta_file = os.path.join(canu_dir, sample, sample+\".unassembled.fasta\")\n",
    "        # Open up unassembled fasta file:\n",
    "        records = SeqIO.parse(unassembled_fasta_file, \"fasta\")\n",
    "        # Open up tigInfo File\n",
    "        tigInfoFile = os.path.join(canu_dir, sample, sample+\".contigs.layout.tigInfo\")\n",
    "        tigInfoDF = pd.read_csv(tigInfoFile, sep=\"\\t\", header=0)\n",
    "        # Get contigs with coverage > 1\n",
    "        covered_contigs = [\"tig{:08d}\".format(contig)\n",
    "                           for contig in tigInfoDF.loc[tigInfoDF[\"coverage\"] > 1][\"#tigID\"].tolist()]\n",
    "        # write contigs to contigFile\n",
    "        #with open(contigFile, \"w\") as output_handle:\n",
    "         #   SeqIO.write(record for, output_handle, \"fasta\")\n",
    "        #for contig in covered_contigs:\n",
    "        #    print(record_dict[\"{:08d}\".format(contig)]))\n",
    "        SeqIO.write([record for record in records if record.id in covered_contigs],\n",
    "                    contigFile, \"fasta\")        "
   ]
  },
  {
   "cell_type": "code",
   "execution_count": 30,
   "metadata": {},
   "outputs": [
    {
     "name": "stdout",
     "output_type": "stream",
     "text": [
      "('', '')\n",
      "('', '')\n",
      "('', '')\n",
      "('', '')\n",
      "('', '')\n",
      "('', '')\n",
      "('', '')\n",
      "('', '')\n"
     ]
    }
   ],
   "source": [
    "# Now run circulator to circularise the genome and generate a consensus\n",
    "samples = genome_lengths.iterkeys()\n",
    "circlator_dir = os.path.join(RUN_DIR, \"circlator\")\n",
    "if not os.path.isdir(circlator_dir):\n",
    "    os.mkdir(circlator_dir)\n",
    "for sample in samples:\n",
    "    # Retrieve necessary files\n",
    "    sample_canu_dir = os.path.join(canu_dir, sample)\n",
    "    contigFile = os.path.join(sample_canu_dir, sample+\".contigs.fasta\")\n",
    "    circlator_sample_dir = os.path.join(circlator_dir, sample)\n",
    "    circlator_output_prefix = os.path.join(circlator_sample_dir, sample)\n",
    "    # Output directory must not exist\n",
    "    if os.path.isdir(circlator_sample_dir):\n",
    "        shutil.rmtree(circlator_sample_dir)\n",
    "    os.mkdir(circlator_sample_dir) \n",
    "    # Circlator command\n",
    "    circlator_command_options = [\"circlator minimus2\"]\n",
    "    circlator_command_options.append(contigFile)\n",
    "    circlator_command_options.append(circlator_output_prefix)\n",
    "    circlator_command = ' '.join(circlator_command_options)\n",
    "    \n",
    "    # Need to replace top line \">tig00000001.circularised\" with actual name.\n",
    "    # Can use sed command to do this.\n",
    "    sed_command = \"sed -i \\\"1 s/^.*$/>%s.circularised/\\\" %s\" % (sample, circlator_output_prefix+\".circularise.fasta\")\n",
    "    \n",
    "    circlator_proc = subprocess.Popen(' && '.join([circlator_command, sed_command]), shell=True,\n",
    "                                                   stdout=subprocess.PIPE, stderr=subprocess.PIPE)\n",
    "    stdout, stderr = circlator_proc.communicate()\n",
    "    print(stdout, stderr)"
   ]
  },
  {
   "cell_type": "code",
   "execution_count": 31,
   "metadata": {
    "scrolled": true
   },
   "outputs": [
    {
     "name": "stdout",
     "output_type": "stream",
     "text": [
      "('', '[bwa_index] Pack FASTA... 0.00 sec\\n[bwa_index] Construct BWT for the packed sequence...\\n[bwa_index] 0.00 seconds elapse.\\n[bwa_index] Update BWT... 0.00 sec\\n[bwa_index] Pack forward-only FASTA... 0.00 sec\\n[bwa_index] Construct SA from BWT and Occ... 0.01 sec\\n[main] Version: 0.7.15-r1140\\n[main] CMD: bwa index /data/Bioinfo/bioinfo-proj-alexis/2017_07_09_PLASMIDS_BARCODED/circlator/YHC8/YHC8.circularise.fasta\\n[main] Real time: 0.022 sec; CPU: 0.019 sec\\n')\n",
      "('', '[M::bwa_idx_load_from_disk] read 0 ALT contigs\\n[M::process] read 69 sequences (516009 bp)...\\n[M::mem_process_seqs] Processed 69 reads in 3.809 CPU sec, 3.809 real sec\\n[main] Version: 0.7.15-r1140\\n[main] CMD: bwa mem -x ont2d /data/Bioinfo/bioinfo-proj-alexis/2017_07_09_PLASMIDS_BARCODED/circlator/YHC8/YHC8.circularise.fasta /data/Bioinfo/bioinfo-proj-alexis/2017_07_09_PLASMIDS_BARCODED/canu/YHC8/YHC8.trimmedReads.fasta.gz\\n[main] Real time: 3.828 sec; CPU: 3.828 sec\\n')\n",
      "('', '[bwa_index] Pack FASTA... 0.00 sec\\n[bwa_index] Construct BWT for the packed sequence...\\n[bwa_index] 0.00 seconds elapse.\\n[bwa_index] Update BWT... 0.00 sec\\n[bwa_index] Pack forward-only FASTA... 0.00 sec\\n[bwa_index] Construct SA from BWT and Occ... 0.00 sec\\n[main] Version: 0.7.15-r1140\\n[main] CMD: bwa index /data/Bioinfo/bioinfo-proj-alexis/2017_07_09_PLASMIDS_BARCODED/circlator/JB2/JB2.circularise.fasta\\n[main] Real time: 0.016 sec; CPU: 0.011 sec\\n')\n",
      "('', '[M::bwa_idx_load_from_disk] read 0 ALT contigs\\n[M::process] read 76 sequences (489662 bp)...\\n[M::mem_process_seqs] Processed 76 reads in 0.983 CPU sec, 0.982 real sec\\n[main] Version: 0.7.15-r1140\\n[main] CMD: bwa mem -x ont2d /data/Bioinfo/bioinfo-proj-alexis/2017_07_09_PLASMIDS_BARCODED/circlator/JB2/JB2.circularise.fasta /data/Bioinfo/bioinfo-proj-alexis/2017_07_09_PLASMIDS_BARCODED/canu/JB2/JB2.trimmedReads.fasta.gz\\n[main] Real time: 1.000 sec; CPU: 1.000 sec\\n')\n",
      "('', '[bwa_index] Pack FASTA... 0.00 sec\\n[bwa_index] Construct BWT for the packed sequence...\\n[bwa_index] 0.00 seconds elapse.\\n[bwa_index] Update BWT... 0.00 sec\\n[bwa_index] Pack forward-only FASTA... 0.00 sec\\n[bwa_index] Construct SA from BWT and Occ... 0.00 sec\\n[main] Version: 0.7.15-r1140\\n[main] CMD: bwa index /data/Bioinfo/bioinfo-proj-alexis/2017_07_09_PLASMIDS_BARCODED/circlator/JB1/JB1.circularise.fasta\\n[main] Real time: 0.017 sec; CPU: 0.012 sec\\n')\n",
      "('', '[M::bwa_idx_load_from_disk] read 0 ALT contigs\\n[M::process] read 41 sequences (350546 bp)...\\n[M::mem_process_seqs] Processed 41 reads in 0.775 CPU sec, 0.775 real sec\\n[main] Version: 0.7.15-r1140\\n[main] CMD: bwa mem -x ont2d /data/Bioinfo/bioinfo-proj-alexis/2017_07_09_PLASMIDS_BARCODED/circlator/JB1/JB1.circularise.fasta /data/Bioinfo/bioinfo-proj-alexis/2017_07_09_PLASMIDS_BARCODED/canu/JB1/JB1.trimmedReads.fasta.gz\\n[main] Real time: 0.789 sec; CPU: 0.791 sec\\n')\n",
      "('', '[bwa_index] Pack FASTA... 0.00 sec\\n[bwa_index] Construct BWT for the packed sequence...\\n[bwa_index] 0.00 seconds elapse.\\n[bwa_index] Update BWT... 0.00 sec\\n[bwa_index] Pack forward-only FASTA... 0.00 sec\\n[bwa_index] Construct SA from BWT and Occ... 0.00 sec\\n[main] Version: 0.7.15-r1140\\n[main] CMD: bwa index /data/Bioinfo/bioinfo-proj-alexis/2017_07_09_PLASMIDS_BARCODED/circlator/PTS1/PTS1.circularise.fasta\\n[main] Real time: 0.015 sec; CPU: 0.009 sec\\n')\n",
      "('', '[M::bwa_idx_load_from_disk] read 0 ALT contigs\\n[M::process] read 67 sequences (230937 bp)...\\n[M::mem_process_seqs] Processed 67 reads in 0.495 CPU sec, 0.495 real sec\\n[main] Version: 0.7.15-r1140\\n[main] CMD: bwa mem -x ont2d /data/Bioinfo/bioinfo-proj-alexis/2017_07_09_PLASMIDS_BARCODED/circlator/PTS1/PTS1.circularise.fasta /data/Bioinfo/bioinfo-proj-alexis/2017_07_09_PLASMIDS_BARCODED/canu/PTS1/PTS1.trimmedReads.fasta.gz\\n[main] Real time: 0.506 sec; CPU: 0.507 sec\\n')\n",
      "('', '[bwa_index] Pack FASTA... 0.00 sec\\n[bwa_index] Construct BWT for the packed sequence...\\n[bwa_index] 0.00 seconds elapse.\\n[bwa_index] Update BWT... 0.00 sec\\n[bwa_index] Pack forward-only FASTA... 0.00 sec\\n[bwa_index] Construct SA from BWT and Occ... 0.00 sec\\n[main] Version: 0.7.15-r1140\\n[main] CMD: bwa index /data/Bioinfo/bioinfo-proj-alexis/2017_07_09_PLASMIDS_BARCODED/circlator/PTS2/PTS2.circularise.fasta\\n[main] Real time: 0.011 sec; CPU: 0.005 sec\\n')\n",
      "('', '[M::bwa_idx_load_from_disk] read 0 ALT contigs\\n[M::process] read 46 sequences (134430 bp)...\\n[M::mem_process_seqs] Processed 46 reads in 0.330 CPU sec, 0.329 real sec\\n[main] Version: 0.7.15-r1140\\n[main] CMD: bwa mem -x ont2d /data/Bioinfo/bioinfo-proj-alexis/2017_07_09_PLASMIDS_BARCODED/circlator/PTS2/PTS2.circularise.fasta /data/Bioinfo/bioinfo-proj-alexis/2017_07_09_PLASMIDS_BARCODED/canu/PTS2/PTS2.trimmedReads.fasta.gz\\n[main] Real time: 0.337 sec; CPU: 0.339 sec\\n')\n",
      "('', '[bwa_index] Pack FASTA... 0.00 sec\\n[bwa_index] Construct BWT for the packed sequence...\\n[bwa_index] 0.00 seconds elapse.\\n[bwa_index] Update BWT... 0.00 sec\\n[bwa_index] Pack forward-only FASTA... 0.00 sec\\n[bwa_index] Construct SA from BWT and Occ... 0.01 sec\\n[main] Version: 0.7.15-r1140\\n[main] CMD: bwa index /data/Bioinfo/bioinfo-proj-alexis/2017_07_09_PLASMIDS_BARCODED/circlator/YHC6/YHC6.circularise.fasta\\n[main] Real time: 0.114 sec; CPU: 0.019 sec\\n')\n",
      "('', '[M::bwa_idx_load_from_disk] read 0 ALT contigs\\n[M::process] read 41 sequences (228691 bp)...\\n[M::mem_process_seqs] Processed 41 reads in 1.494 CPU sec, 1.493 real sec\\n[main] Version: 0.7.15-r1140\\n[main] CMD: bwa mem -x ont2d /data/Bioinfo/bioinfo-proj-alexis/2017_07_09_PLASMIDS_BARCODED/circlator/YHC6/YHC6.circularise.fasta /data/Bioinfo/bioinfo-proj-alexis/2017_07_09_PLASMIDS_BARCODED/canu/YHC6/YHC6.trimmedReads.fasta.gz\\n[main] Real time: 1.501 sec; CPU: 1.501 sec\\n')\n",
      "('', '[bwa_index] Pack FASTA... 0.00 sec\\n[bwa_index] Construct BWT for the packed sequence...\\n[bwa_index] 0.00 seconds elapse.\\n[bwa_index] Update BWT... 0.00 sec\\n[bwa_index] Pack forward-only FASTA... 0.00 sec\\n[bwa_index] Construct SA from BWT and Occ... 0.01 sec\\n[main] Version: 0.7.15-r1140\\n[main] CMD: bwa index /data/Bioinfo/bioinfo-proj-alexis/2017_07_09_PLASMIDS_BARCODED/circlator/YHC7/YHC7.circularise.fasta\\n[main] Real time: 0.026 sec; CPU: 0.020 sec\\n')\n",
      "('', '[M::bwa_idx_load_from_disk] read 0 ALT contigs\\n[M::process] read 64 sequences (338019 bp)...\\n[M::mem_process_seqs] Processed 64 reads in 1.781 CPU sec, 1.779 real sec\\n[main] Version: 0.7.15-r1140\\n[main] CMD: bwa mem -x ont2d /data/Bioinfo/bioinfo-proj-alexis/2017_07_09_PLASMIDS_BARCODED/circlator/YHC7/YHC7.circularise.fasta /data/Bioinfo/bioinfo-proj-alexis/2017_07_09_PLASMIDS_BARCODED/canu/YHC7/YHC7.trimmedReads.fasta.gz\\n[main] Real time: 1.793 sec; CPU: 1.794 sec\\n')\n",
      "('', '[bwa_index] Pack FASTA... 0.00 sec\\n[bwa_index] Construct BWT for the packed sequence...\\n[bwa_index] 0.00 seconds elapse.\\n[bwa_index] Update BWT... 0.00 sec\\n[bwa_index] Pack forward-only FASTA... 0.00 sec\\n[bwa_index] Construct SA from BWT and Occ... 0.01 sec\\n[main] Version: 0.7.15-r1140\\n[main] CMD: bwa index /data/Bioinfo/bioinfo-proj-alexis/2017_07_09_PLASMIDS_BARCODED/circlator/YHC17/YHC17.circularise.fasta\\n[main] Real time: 0.018 sec; CPU: 0.014 sec\\n')\n",
      "('', '[M::bwa_idx_load_from_disk] read 0 ALT contigs\\n[M::process] read 61 sequences (448655 bp)...\\n[M::mem_process_seqs] Processed 61 reads in 1.980 CPU sec, 1.979 real sec\\n[main] Version: 0.7.15-r1140\\n[main] CMD: bwa mem -x ont2d /data/Bioinfo/bioinfo-proj-alexis/2017_07_09_PLASMIDS_BARCODED/circlator/YHC17/YHC17.circularise.fasta /data/Bioinfo/bioinfo-proj-alexis/2017_07_09_PLASMIDS_BARCODED/canu/YHC17/YHC17.trimmedReads.fasta.gz\\n[main] Real time: 2.026 sec; CPU: 1.996 sec\\n')\n"
     ]
    }
   ],
   "source": [
    "# Re-align reads using samtools\n",
    "# Create alignment dir\n",
    "samples = genome_lengths.iterkeys()\n",
    "alignment_dir = os.path.join(RUN_DIR, \"alignment\")\n",
    "if not os.path.isdir(alignment_dir):\n",
    "    os.mkdir(alignment_dir)\n",
    "# Run alignment for each sample reads    \n",
    "for sample in samples:\n",
    "    # Get trimmed canu reads\n",
    "    sample_canu_dir = os.path.join(canu_dir, sample)\n",
    "    sample_alignment_dir = os.path.join(alignment_dir, sample)\n",
    "    if os.path.isdir(sample_alignment_dir):\n",
    "        shutil.rmtree(sample_alignment_dir)\n",
    "    os.mkdir(sample_alignment_dir)\n",
    "    \n",
    "    circlator_sample_dir = os.path.join(circlator_dir, sample)\n",
    "    circlator_contig_file = os.path.join(circlator_sample_dir, sample+\".circularise.fasta\")\n",
    "\n",
    "    sam_file = os.path.join(sample_alignment_dir, sample+\".sam\")\n",
    "    bam_file = os.path.join(sample_alignment_dir, sample+\".bam\")\n",
    "    bai_file = os.path.join(sample_alignment_dir, sample+\".bai\")\n",
    "\n",
    "    if not os.path.isdir(sample_alignment_dir):\n",
    "        os.mkdir(sample_alignment_dir)\n",
    "    # Use the corrected and trimmed reads from Canu\n",
    "    trimmed_reads = os.path.join(sample_canu_dir, sample+\".trimmedReads.fasta.gz\")\n",
    "    \n",
    "    # Create the bwa and samtools indexes for the draft reference\n",
    "    bwa_index_command = \"bwa index %s\" % circlator_contig_file\n",
    "    samtools_index_command = \"samtools faidx %s\" % circlator_contig_file\n",
    "    index_proc = subprocess.Popen(' && '.join([bwa_index_command, samtools_index_command]), shell=True,\n",
    "                                  stdout=subprocess.PIPE, stderr=subprocess.PIPE)\n",
    "    stdout, stderr = index_proc.communicate()\n",
    "    print(stdout, stderr)\n",
    "    \n",
    "    # Now run the bwa and sam2bam command\n",
    "    bwa_align_command = \"bwa mem -x ont2d %s %s > %s\" % (circlator_contig_file, trimmed_reads, sam_file)\n",
    "    \n",
    "    # Samtools view and sort command\n",
    "    samtools_view_and_sort_command = \"samtools view -bS %s | samtools sort -o %s -\" % (sam_file, bam_file)\n",
    "    \n",
    "    # Create bam index\n",
    "    bam_index_command = \"samtools index %s %s\" % (bam_file, bai_file)\n",
    "    \n",
    "    # Run all commands sequentially\n",
    "    alignment_commands = ' && '.join([bwa_align_command, samtools_view_and_sort_command,\n",
    "                                       bam_index_command])\n",
    "    alignment_proc = subprocess.Popen(alignment_commands, shell=True,\n",
    "                                      stdout=subprocess.PIPE, stderr=subprocess.PIPE)\n",
    "    stdout, stderr = alignment_proc.communicate()\n",
    "    print(stdout, stderr)"
   ]
  },
  {
   "cell_type": "code",
   "execution_count": 32,
   "metadata": {},
   "outputs": [
    {
     "name": "stdout",
     "output_type": "stream",
     "text": [
      "False\n",
      "True\n",
      "True\n",
      "True\n",
      "True\n",
      "False\n",
      "True\n",
      "False\n",
      "  sample genome_size circularised\n",
      "0   YHC8       27458        False\n",
      "1    JB2       12228         True\n",
      "2    JB1        8894         True\n",
      "3   PTS1       13987         True\n",
      "4   PTS2       13553         True\n",
      "5   YHC6       20112        False\n",
      "6   YHC7       15924         True\n",
      "7  YHC17       21705        False\n"
     ]
    }
   ],
   "source": [
    "# Test for circularisation, export to TSV\n",
    "samples = genome_lengths.iterkeys()\n",
    "circlator_dir = os.path.join(RUN_DIR, \"circlator\")\n",
    "circularised_df = pd.DataFrame(columns=[\"sample\", \"genome_size\", \"circularised\"])\n",
    "tsv_output_file = os.path.join(PRESENTATION_DIR, \"data\", \"genome_status.tsv\")\n",
    "for sample in samples:\n",
    "    circlator_sample_dir = os.path.join(circlator_dir, sample)\n",
    "    circlator_log_file = os.path.join(circlator_sample_dir, sample+\".log\")\n",
    "    # Example line in log file: tig00000001 circularised: True\n",
    "    is_circularised_command = \"grep circularised: %s | rev | cut -d' ' -f1 | rev\" % circlator_log_file\n",
    "    is_circularised_proc = subprocess.Popen(is_circularised_command, shell=True,\n",
    "                                           stdout=subprocess.PIPE, stderr=subprocess.PIPE)\n",
    "    stdout, stderr = is_circularised_proc.communicate()\n",
    "    is_circularised = stdout.rstrip()==\"True\"\n",
    "    print(is_circularised)\n",
    "    circularised_as_seres = pd.Series(data=[sample, genome_lengths[sample], is_circularised], \n",
    "                                      index=[\"sample\", \"genome_size\", \"circularised\"])\n",
    "    circularised_df = circularised_df.append(circularised_as_seres, ignore_index=True)\n",
    "circularised_df.to_csv(tsv_output_file, index=False, sep=\"\\t\")\n",
    "print(circularised_df)"
   ]
  },
  {
   "cell_type": "code",
   "execution_count": 36,
   "metadata": {},
   "outputs": [
    {
     "name": "stdout",
     "output_type": "stream",
     "text": [
      "('', '')\n",
      "('', '')\n",
      "('', '')\n",
      "('', '')\n",
      "('', '')\n",
      "('', '')\n",
      "('', '')\n",
      "('', '')\n"
     ]
    }
   ],
   "source": [
    "# Use the unassembled data and map to the draft genomes\n",
    "# Step 1: Create concatenated draft genome\n",
    "samples = genome_lengths.iterkeys()\n",
    "random_dir = os.path.join(RUN_DIR, \"unclassified\")\n",
    "if not os.path.isdir(random_dir):\n",
    "    os.mkdir(random_dir)\n",
    "    \n",
    "# Concatenate references into all_genomes_files\n",
    "all_draft_genomes_file = os.path.join(random_dir, \"all_draft_genomes.fna\")\n",
    "if os.path.isfile(all_draft_genomes_file):\n",
    "    os.remove(all_draft_genomes_file)\n",
    "for sample in samples:\n",
    "    # Concatenate references into all_genomes_files\n",
    "    sample_alignment_dir = os.path.join(alignment_dir, sample) \n",
    "    circlator_sample_dir = os.path.join(circlator_dir, sample)\n",
    "    circlator_contig_file = os.path.join(circlator_sample_dir, sample+\".circularise.fasta\")\n",
    "    cat_command = \"cat %s >> %s\" % (circlator_contig_file, all_draft_genomes_file)\n",
    "    cat_proc = subprocess.Popen(cat_command, shell=True,\n",
    "                                stdout=subprocess.PIPE, stderr=subprocess.PIPE)\n",
    "    stdout, stderr = cat_proc.communicate()\n",
    "    print(stdout, stderr)\n",
    "    \n",
    "# Create bwa and faidx\n",
    "bwa_index_command = \"bwa index %s\" % all_draft_genomes_file\n",
    "samtools_index_command = \"samtools faidx %s\" % all_draft_genomes_file\n",
    "index_proc = subprocess.Popen(' && '.join([bwa_index_command, samtools_index_command]), shell=True,\n",
    "                              stdout=subprocess.PIPE, stderr=subprocess.PIPE)\n",
    "stdout, stderr = index_proc.communicate()\n",
    "\n",
    "# Align all unclassified reads to the genome sets.\n",
    "all_unclassified_fasta_files = os.path.join(FASTQ_DIR, \"unclassified.all.fastq\")\n",
    "all_unclassified_trimmed_fasta_file = os.path.join(trimmed_dir, \"unclassified.all.trimmed.fastq\")\n",
    "sam_file = os.path.join(random_dir, \"unclassified.all.sam\")\n",
    "bam_file = os.path.join(random_dir, \"unclassified.all.bam\")\n",
    "bai_file = os.path.join(random_dir, \"unclassified.all.bai\")\n",
    "\n",
    "# But first we trim.\n",
    "porechop_command_options = [\"porechop\"]\n",
    "porechop_command_options.append(\"--input %s\" % all_unclassified_fasta_files)\n",
    "porechop_command_options.append(\"--discard_middle\")  # Remove any reads with adapters in the middle.\n",
    "porechop_command_options.append(\"--output %s\" % os.path.join(trimmed_dir, all_unclassified_trimmed_fasta_file))\n",
    "porechop_command = ' '.join(porechop_command_options)\n",
    "porechop_proc = subprocess.Popen(porechop_command, shell=True,\n",
    "                                 stdout=subprocess.PIPE, stderr=subprocess.PIPE)\n",
    "stdout, stderr = porechop_proc.communicate()\n",
    "\n",
    "# Now run the bwa and sam2bam command\n",
    "bwa_align_command = \"bwa mem -x ont2d %s %s > %s\" % (all_draft_genomes_file, all_unclassified_trimmed_fasta_file, sam_file)\n",
    "\n",
    "# Samtools view and sort command\n",
    "samtools_view_and_sort_command = \"samtools view -bS %s | samtools sort -o %s -\" % (sam_file, bam_file)\n",
    "    \n",
    "# Create bam index\n",
    "bam_index_command = \"samtools index %s %s\" % (bam_file, bai_file)\n",
    "# Split bam file by output\n",
    "bamtools_split_command = \"bamtools split -in %s -reference\" % bam_file\n",
    "\n",
    "# Run all commands sequentially\n",
    "alignment_commands = ' && '.join([bwa_align_command, samtools_view_and_sort_command,\n",
    "                                  bam_index_command, bamtools_split_command])\n",
    "alignment_proc = subprocess.Popen(alignment_commands, shell=True,\n",
    "                                  stdout=subprocess.PIPE, stderr=subprocess.PIPE)\n",
    "stdout, stderr = alignment_proc.communicate()"
   ]
  },
  {
   "cell_type": "code",
   "execution_count": 60,
   "metadata": {},
   "outputs": [
    {
     "name": "stdout",
     "output_type": "stream",
     "text": [
      "unclassified.all.REF_JB2.circularised.bam\n",
      "unclassified.all.REF_JB1.circularised.bam\n",
      "unclassified.all.REF_YHC8.circularised.bam\n",
      "unclassified.all.REF_PTS2.circularised.bam\n",
      "unclassified.all.REF_PTS1.circularised.bam\n",
      "unclassified.all.REF_YHC6.circularised.bam\n",
      "unclassified.all.REF_YHC7.circularised.bam\n",
      "unclassified.all.REF_YHC17.circularised.bam\n",
      "('-- Canu release v1.5\\nGFA alignments updated.\\n', '[M::bam2fq_mainloop] discarded 0 singletons\\n[M::bam2fq_mainloop] processed 181 reads\\n')\n",
      "('-- Canu release v1.5\\nGFA alignments updated.\\n', '[M::bam2fq_mainloop] discarded 0 singletons\\n[M::bam2fq_mainloop] processed 431 reads\\n')\n",
      "('-- Canu release v1.5\\nGFA alignments updated.\\n', '[M::bam2fq_mainloop] discarded 0 singletons\\n[M::bam2fq_mainloop] processed 1430 reads\\n')\n",
      "('-- Canu release v1.5\\nGFA alignments updated.\\n', '[M::bam2fq_mainloop] discarded 0 singletons\\n[M::bam2fq_mainloop] processed 95 reads\\n')\n",
      "('-- Canu release v1.5\\nGFA alignments updated.\\n', '[M::bam2fq_mainloop] discarded 0 singletons\\n[M::bam2fq_mainloop] processed 54 reads\\n')\n",
      "('-- Canu release v1.5\\nGFA alignments updated.\\n', '[M::bam2fq_mainloop] discarded 0 singletons\\n[M::bam2fq_mainloop] processed 107 reads\\n')\n",
      "('-- Canu release v1.5\\nGFA alignments updated.\\n', '[M::bam2fq_mainloop] discarded 0 singletons\\n[M::bam2fq_mainloop] processed 45 reads\\n')\n",
      "('-- Canu release v1.5\\nGFA alignments updated.\\n', '[M::bam2fq_mainloop] discarded 0 singletons\\n[M::bam2fq_mainloop] processed 95 reads\\n')\n"
     ]
    }
   ],
   "source": [
    "# Step 2: Convert these output bam files to fastq\n",
    "bam_files = [bam_file for bam_file in os.listdir(random_dir)\n",
    "             if bam_file.endswith(\".bam\") and\n",
    "             \"unmapped\" not in bam_file and\n",
    "             \"REF\" in bam_file]\n",
    "\n",
    "# Create dictionary of bam_files\n",
    "bam_files_by_sample = {}\n",
    "for bam_file in bam_files:\n",
    "    # Bam file: unclassified.all.REF_PTS2.circularised.bam\n",
    "    print(bam_file)\n",
    "    sample = bam_file.split(\".\")[2].split(\"_\")[1]\n",
    "    bam_files_by_sample[sample] = os.path.join(random_dir, bam_file)\n",
    "\n",
    "for sample, bam_file in bam_files_by_sample.iteritems():\n",
    "    # Run bam2fastq\n",
    "    fastq_file = os.path.join(random_dir, \"unclassified.%s.fastq\" % sample)\n",
    "    bam2fastq_command = \"samtools bam2fq -O %s | seqtk seq > %s\" % (bam_file, fastq_file)\n",
    "    \n",
    "    # Create concatenated fastq file that appends reads from trimmed directory\n",
    "    original_trimmed_file = os.path.join(trimmed_dir, sample+\".all.trimmed.fastq\")\n",
    "    \n",
    "    cat_command = \"cat %s >> %s\" % (original_trimmed_file, fastq_file)\n",
    "    \n",
    "    # Run this again through canu\n",
    "    sample_canu_dir = os.path.join(random_dir, \"canu_%s\" % sample)\n",
    "    canu_prefix = \"retry_canu_%s\" % sample\n",
    "    if os.path.isdir(sample_canu_dir):\n",
    "        shutil.rmtree(sample_canu_dir)\n",
    "    os.mkdir(sample_canu_dir)\n",
    "    \n",
    "    canu_command_options = [\"canu\"]\n",
    "    canu_command_options.append(\"-p %s\" % canu_prefix)\n",
    "    canu_command_options.append(\"-d %s\" % sample_canu_dir)\n",
    "    canu_command_options.append(\"genomeSize=%d\" % genome_lengths[sample])\n",
    "    canu_command_options.append(\"useGrid=false\")\n",
    "    canu_command_options.append('stopOnReadQuality=false')\n",
    "    canu_command_options.append(\"-nanopore-raw\")\n",
    "    canu_command_options.append(\"%s\" % fastq_file)\n",
    "    canu_command_options.append(\"2> %s\" % os.path.join(sample_canu_dir, sample + \".stderr.log\"))\n",
    "    canu_command = ' '.join(canu_command_options)\n",
    "    rerun_pipeline = subprocess.Popen(' && '.join([bam2fastq_command, cat_command, canu_command]), \n",
    "                                      shell=True, stdout=subprocess.PIPE, stderr=subprocess.PIPE)\n",
    "    stdout, stderr = rerun_pipeline.communicate()\n",
    "    print(stdout, stderr)\n",
    "    contigFile = os.path.join(sample_canu_dir, canu_prefix+\".contigs.fasta\")\n",
    "    if os.stat(contigFile).st_size == 0:\n",
    "        # Failed to form contig, use tigInfoFile to get main contig out of unassembled file\n",
    "        unassembled_fasta_file = os.path.join(sample_canu_dir, canu_prefix+\".unassembled.fasta\")\n",
    "        # Open up unassembled fasta file:\n",
    "        records = SeqIO.parse(unassembled_fasta_file, \"fasta\")\n",
    "        # Open up tigInfo File\n",
    "        tigInfoFile = os.path.join(sample_canu_dir, canu_prefix+\".contigs.layout.tigInfo\")\n",
    "        tigInfoDF = pd.read_csv(tigInfoFile, sep=\"\\t\", header=0)\n",
    "        # Get contigs with coverage > 1\n",
    "        covered_contigs = [\"tig{:08d}\".format(contig)\n",
    "                           for contig in tigInfoDF.loc[tigInfoDF[\"coverage\"] > 1][\"#tigID\"].tolist()]\n",
    "        # write contigs to contigFile\n",
    "        #with open(contigFile, \"w\") as output_handle:\n",
    "         #   SeqIO.write(record for, output_handle, \"fasta\")\n",
    "        #for contig in covered_contigs:\n",
    "        #    print(record_dict[\"{:08d}\".format(contig)]))\n",
    "        SeqIO.write([record for record in records if record.id in covered_contigs],\n",
    "                    contigFile, \"fasta\")\n",
    "    \n"
   ]
  },
  {
   "cell_type": "code",
   "execution_count": 61,
   "metadata": {},
   "outputs": [
    {
     "name": "stdout",
     "output_type": "stream",
     "text": [
      "('', '')\n",
      "('', '')\n",
      "('', '')\n",
      "('', '')\n",
      "('', '')\n",
      "('', '')\n",
      "('', '')\n",
      "('', '')\n"
     ]
    }
   ],
   "source": [
    "# Now run circulator to circularise the genome and generate a consensus\n",
    "samples = genome_lengths.iterkeys()\n",
    "circlator_dir = os.path.join(random_dir, \"circlator\")\n",
    "if not os.path.isdir(circlator_dir):\n",
    "    os.mkdir(circlator_dir)\n",
    "for sample in samples:\n",
    "    # Retrieve necessary files\n",
    "    sample_canu_dir = os.path.join(random_dir, \"canu_%s\" % sample)\n",
    "    contigFile = os.path.join(sample_canu_dir, \"retry_canu_\"+sample+\".contigs.fasta\")\n",
    "    circlator_sample_dir = os.path.join(circlator_dir, sample)\n",
    "    circlator_output_prefix = os.path.join(circlator_sample_dir, sample)\n",
    "    # Output directory must not exist\n",
    "    if os.path.isdir(circlator_sample_dir):\n",
    "        shutil.rmtree(circlator_sample_dir)\n",
    "    os.mkdir(circlator_sample_dir) \n",
    "    # Circlator command\n",
    "    circlator_command_options = [\"circlator minimus2\"]\n",
    "    circlator_command_options.append(contigFile)\n",
    "    circlator_command_options.append(circlator_output_prefix)\n",
    "    circlator_command = ' '.join(circlator_command_options)\n",
    "    \n",
    "    # Need to replace top line \">tig00000001.circularised\" with actual name.\n",
    "    # Can use sed command to do this.\n",
    "    sed_command = \"sed -i \\\"1 s/^.*$/>%s.circularised/\\\" %s\" % (sample, circlator_output_prefix+\".circularise.fasta\")\n",
    "    \n",
    "    circlator_proc = subprocess.Popen(' && '.join([circlator_command, sed_command]), shell=True,\n",
    "                                                   stdout=subprocess.PIPE, stderr=subprocess.PIPE)\n",
    "    stdout, stderr = circlator_proc.communicate()\n",
    "    print(stdout, stderr)"
   ]
  },
  {
   "cell_type": "code",
   "execution_count": 62,
   "metadata": {},
   "outputs": [
    {
     "name": "stdout",
     "output_type": "stream",
     "text": [
      "('', '[bwa_index] Pack FASTA... 0.00 sec\\n[bwa_index] Construct BWT for the packed sequence...\\n[bwa_index] 0.00 seconds elapse.\\n[bwa_index] Update BWT... 0.00 sec\\n[bwa_index] Pack forward-only FASTA... 0.01 sec\\n[bwa_index] Construct SA from BWT and Occ... 0.00 sec\\n[main] Version: 0.7.15-r1140\\n[main] CMD: bwa index /data/Bioinfo/bioinfo-proj-alexis/2017_07_09_PLASMIDS_BARCODED/unclassified/circlator/YHC8/YHC8.circularise.fasta\\n[main] Real time: 0.045 sec; CPU: 0.023 sec\\n')\n",
      "('', '[M::bwa_idx_load_from_disk] read 0 ALT contigs\\n[M::process] read 113 sequences (707415 bp)...\\n[M::mem_process_seqs] Processed 113 reads in 6.151 CPU sec, 6.150 real sec\\n[main] Version: 0.7.15-r1140\\n[main] CMD: bwa mem -x ont2d /data/Bioinfo/bioinfo-proj-alexis/2017_07_09_PLASMIDS_BARCODED/unclassified/circlator/YHC8/YHC8.circularise.fasta /data/Bioinfo/bioinfo-proj-alexis/2017_07_09_PLASMIDS_BARCODED/unclassified/canu_YHC8/retry_canu_YHC8.trimmedReads.fasta.gz\\n[main] Real time: 6.172 sec; CPU: 6.171 sec\\n')\n",
      "('', '[bwa_index] Pack FASTA... 0.00 sec\\n[bwa_index] Construct BWT for the packed sequence...\\n[bwa_index] 0.00 seconds elapse.\\n[bwa_index] Update BWT... 0.00 sec\\n[bwa_index] Pack forward-only FASTA... 0.00 sec\\n[bwa_index] Construct SA from BWT and Occ... 0.00 sec\\n[main] Version: 0.7.15-r1140\\n[main] CMD: bwa index /data/Bioinfo/bioinfo-proj-alexis/2017_07_09_PLASMIDS_BARCODED/unclassified/circlator/JB2/JB2.circularise.fasta\\n[main] Real time: 0.019 sec; CPU: 0.011 sec\\n')\n",
      "('', '[M::bwa_idx_load_from_disk] read 0 ALT contigs\\n[M::process] read 70 sequences (489148 bp)...\\n[M::mem_process_seqs] Processed 70 reads in 1.078 CPU sec, 1.078 real sec\\n[main] Version: 0.7.15-r1140\\n[main] CMD: bwa mem -x ont2d /data/Bioinfo/bioinfo-proj-alexis/2017_07_09_PLASMIDS_BARCODED/unclassified/circlator/JB2/JB2.circularise.fasta /data/Bioinfo/bioinfo-proj-alexis/2017_07_09_PLASMIDS_BARCODED/unclassified/canu_JB2/retry_canu_JB2.trimmedReads.fasta.gz\\n[main] Real time: 1.095 sec; CPU: 1.096 sec\\n')\n",
      "('', '[bwa_index] Pack FASTA... 0.00 sec\\n[bwa_index] Construct BWT for the packed sequence...\\n[bwa_index] 0.00 seconds elapse.\\n[bwa_index] Update BWT... 0.00 sec\\n[bwa_index] Pack forward-only FASTA... 0.00 sec\\n[bwa_index] Construct SA from BWT and Occ... 0.00 sec\\n[main] Version: 0.7.15-r1140\\n[main] CMD: bwa index /data/Bioinfo/bioinfo-proj-alexis/2017_07_09_PLASMIDS_BARCODED/unclassified/circlator/JB1/JB1.circularise.fasta\\n[main] Real time: 0.043 sec; CPU: 0.012 sec\\n')\n",
      "('', '[M::bwa_idx_load_from_disk] read 0 ALT contigs\\n[M::process] read 41 sequences (351966 bp)...\\n[M::mem_process_seqs] Processed 41 reads in 1.219 CPU sec, 1.218 real sec\\n[main] Version: 0.7.15-r1140\\n[main] CMD: bwa mem -x ont2d /data/Bioinfo/bioinfo-proj-alexis/2017_07_09_PLASMIDS_BARCODED/unclassified/circlator/JB1/JB1.circularise.fasta /data/Bioinfo/bioinfo-proj-alexis/2017_07_09_PLASMIDS_BARCODED/unclassified/canu_JB1/retry_canu_JB1.trimmedReads.fasta.gz\\n[main] Real time: 1.241 sec; CPU: 1.233 sec\\n')\n",
      "('', '[bwa_index] Pack FASTA... 0.00 sec\\n[bwa_index] Construct BWT for the packed sequence...\\n[bwa_index] 0.00 seconds elapse.\\n[bwa_index] Update BWT... 0.00 sec\\n[bwa_index] Pack forward-only FASTA... 0.00 sec\\n[bwa_index] Construct SA from BWT and Occ... 0.00 sec\\n[main] Version: 0.7.15-r1140\\n[main] CMD: bwa index /data/Bioinfo/bioinfo-proj-alexis/2017_07_09_PLASMIDS_BARCODED/unclassified/circlator/PTS1/PTS1.circularise.fasta\\n[main] Real time: 0.032 sec; CPU: 0.009 sec\\n')\n",
      "('', '[M::bwa_idx_load_from_disk] read 0 ALT contigs\\n[M::process] read 84 sequences (295500 bp)...\\n[M::mem_process_seqs] Processed 84 reads in 0.637 CPU sec, 0.636 real sec\\n[main] Version: 0.7.15-r1140\\n[main] CMD: bwa mem -x ont2d /data/Bioinfo/bioinfo-proj-alexis/2017_07_09_PLASMIDS_BARCODED/unclassified/circlator/PTS1/PTS1.circularise.fasta /data/Bioinfo/bioinfo-proj-alexis/2017_07_09_PLASMIDS_BARCODED/unclassified/canu_PTS1/retry_canu_PTS1.trimmedReads.fasta.gz\\n[main] Real time: 0.650 sec; CPU: 0.650 sec\\n')\n",
      "('', '[bwa_index] Pack FASTA... 0.00 sec\\n[bwa_index] Construct BWT for the packed sequence...\\n[bwa_index] 0.00 seconds elapse.\\n[bwa_index] Update BWT... 0.00 sec\\n[bwa_index] Pack forward-only FASTA... 0.00 sec\\n[bwa_index] Construct SA from BWT and Occ... 0.00 sec\\n[main] Version: 0.7.15-r1140\\n[main] CMD: bwa index /data/Bioinfo/bioinfo-proj-alexis/2017_07_09_PLASMIDS_BARCODED/unclassified/circlator/PTS2/PTS2.circularise.fasta\\n[main] Real time: 0.032 sec; CPU: 0.008 sec\\n')\n",
      "('', '[M::bwa_idx_load_from_disk] read 0 ALT contigs\\n[M::process] read 62 sequences (198802 bp)...\\n[M::mem_process_seqs] Processed 62 reads in 0.809 CPU sec, 0.807 real sec\\n[main] Version: 0.7.15-r1140\\n[main] CMD: bwa mem -x ont2d /data/Bioinfo/bioinfo-proj-alexis/2017_07_09_PLASMIDS_BARCODED/unclassified/circlator/PTS2/PTS2.circularise.fasta /data/Bioinfo/bioinfo-proj-alexis/2017_07_09_PLASMIDS_BARCODED/unclassified/canu_PTS2/retry_canu_PTS2.trimmedReads.fasta.gz\\n[main] Real time: 0.815 sec; CPU: 0.815 sec\\n')\n",
      "('', '[bwa_index] Pack FASTA... 0.00 sec\\n[bwa_index] Construct BWT for the packed sequence...\\n[bwa_index] 0.00 seconds elapse.\\n[bwa_index] Update BWT... 0.00 sec\\n[bwa_index] Pack forward-only FASTA... 0.00 sec\\n[bwa_index] Construct SA from BWT and Occ... 0.00 sec\\n[main] Version: 0.7.15-r1140\\n[main] CMD: bwa index /data/Bioinfo/bioinfo-proj-alexis/2017_07_09_PLASMIDS_BARCODED/unclassified/circlator/YHC6/YHC6.circularise.fasta\\n[main] Real time: 0.015 sec; CPU: 0.008 sec\\n')\n",
      "('', '[M::bwa_idx_load_from_disk] read 0 ALT contigs\\n[M::process] read 71 sequences (319346 bp)...\\n[M::mem_process_seqs] Processed 71 reads in 1.431 CPU sec, 1.431 real sec\\n[main] Version: 0.7.15-r1140\\n[main] CMD: bwa mem -x ont2d /data/Bioinfo/bioinfo-proj-alexis/2017_07_09_PLASMIDS_BARCODED/unclassified/circlator/YHC6/YHC6.circularise.fasta /data/Bioinfo/bioinfo-proj-alexis/2017_07_09_PLASMIDS_BARCODED/unclassified/canu_YHC6/retry_canu_YHC6.trimmedReads.fasta.gz\\n[main] Real time: 1.440 sec; CPU: 1.441 sec\\n')\n",
      "('', '[bwa_index] Pack FASTA... 0.00 sec\\n[bwa_index] Construct BWT for the packed sequence...\\n[bwa_index] 0.00 seconds elapse.\\n[bwa_index] Update BWT... 0.00 sec\\n[bwa_index] Pack forward-only FASTA... 0.00 sec\\n[bwa_index] Construct SA from BWT and Occ... 0.00 sec\\n[main] Version: 0.7.15-r1140\\n[main] CMD: bwa index /data/Bioinfo/bioinfo-proj-alexis/2017_07_09_PLASMIDS_BARCODED/unclassified/circlator/YHC7/YHC7.circularise.fasta\\n[main] Real time: 0.035 sec; CPU: 0.012 sec\\n')\n",
      "('', '[M::bwa_idx_load_from_disk] read 0 ALT contigs\\n[M::process] read 80 sequences (437795 bp)...\\n[M::mem_process_seqs] Processed 80 reads in 2.005 CPU sec, 2.004 real sec\\n[main] Version: 0.7.15-r1140\\n[main] CMD: bwa mem -x ont2d /data/Bioinfo/bioinfo-proj-alexis/2017_07_09_PLASMIDS_BARCODED/unclassified/circlator/YHC7/YHC7.circularise.fasta /data/Bioinfo/bioinfo-proj-alexis/2017_07_09_PLASMIDS_BARCODED/unclassified/canu_YHC7/retry_canu_YHC7.trimmedReads.fasta.gz\\n[main] Real time: 2.017 sec; CPU: 2.017 sec\\n')\n",
      "('', '[bwa_index] Pack FASTA... 0.00 sec\\n[bwa_index] Construct BWT for the packed sequence...\\n[bwa_index] 0.01 seconds elapse.\\n[bwa_index] Update BWT... 0.00 sec\\n[bwa_index] Pack forward-only FASTA... 0.00 sec\\n[bwa_index] Construct SA from BWT and Occ... 0.00 sec\\n[main] Version: 0.7.15-r1140\\n[main] CMD: bwa index /data/Bioinfo/bioinfo-proj-alexis/2017_07_09_PLASMIDS_BARCODED/unclassified/circlator/YHC17/YHC17.circularise.fasta\\n[main] Real time: 0.022 sec; CPU: 0.021 sec\\n')\n",
      "('', '[M::bwa_idx_load_from_disk] read 0 ALT contigs\\n[M::process] read 81 sequences (623230 bp)...\\n[M::mem_process_seqs] Processed 81 reads in 3.002 CPU sec, 3.001 real sec\\n[main] Version: 0.7.15-r1140\\n[main] CMD: bwa mem -x ont2d /data/Bioinfo/bioinfo-proj-alexis/2017_07_09_PLASMIDS_BARCODED/unclassified/circlator/YHC17/YHC17.circularise.fasta /data/Bioinfo/bioinfo-proj-alexis/2017_07_09_PLASMIDS_BARCODED/unclassified/canu_YHC17/retry_canu_YHC17.trimmedReads.fasta.gz\\n[main] Real time: 3.022 sec; CPU: 3.022 sec\\n')\n"
     ]
    }
   ],
   "source": [
    "# Create index and realign trimmed reads to the reference genome.\n",
    "# Re-align reads using samtools\n",
    "# Create alignment dir\n",
    "samples = genome_lengths.iterkeys()\n",
    "alignment_dir = os.path.join(random_dir, \"alignment\")\n",
    "if not os.path.isdir(alignment_dir):\n",
    "    os.mkdir(alignment_dir)\n",
    "# Run alignment for each sample reads    \n",
    "for sample in samples:\n",
    "    # Get trimmed canu reads\n",
    "    sample_canu_dir = os.path.join(random_dir, \"canu_%s\" % sample)\n",
    "    sample_alignment_dir = os.path.join(alignment_dir, sample)\n",
    "    if os.path.isdir(sample_alignment_dir):\n",
    "        shutil.rmtree(sample_alignment_dir)\n",
    "    os.mkdir(sample_alignment_dir)\n",
    "    \n",
    "    circlator_sample_dir = os.path.join(circlator_dir, sample)\n",
    "    circlator_contig_file = os.path.join(circlator_sample_dir, sample+\".circularise.fasta\")\n",
    "\n",
    "    sam_file = os.path.join(sample_alignment_dir, sample+\".sam\")\n",
    "    bam_file = os.path.join(sample_alignment_dir, sample+\".bam\")\n",
    "    bai_file = os.path.join(sample_alignment_dir, sample+\".bai\")\n",
    "\n",
    "    if not os.path.isdir(sample_alignment_dir):\n",
    "        os.mkdir(sample_alignment_dir)\n",
    "    # Use the corrected and trimmed reads from Canu\n",
    "    trimmed_reads = os.path.join(sample_canu_dir, \"retry_canu_\"+sample+\".trimmedReads.fasta.gz\")\n",
    "    \n",
    "    # Create the bwa and samtools indexes for the draft reference\n",
    "    bwa_index_command = \"bwa index %s\" % circlator_contig_file\n",
    "    samtools_index_command = \"samtools faidx %s\" % circlator_contig_file\n",
    "    index_proc = subprocess.Popen(' && '.join([bwa_index_command, samtools_index_command]), shell=True,\n",
    "                                  stdout=subprocess.PIPE, stderr=subprocess.PIPE)\n",
    "    stdout, stderr = index_proc.communicate()\n",
    "    print(stdout, stderr)\n",
    "    \n",
    "    # Now run the bwa and sam2bam command\n",
    "    bwa_align_command = \"bwa mem -x ont2d %s %s > %s\" % (circlator_contig_file, trimmed_reads, sam_file)\n",
    "    \n",
    "    # Samtools view and sort command\n",
    "    samtools_view_and_sort_command = \"samtools view -bS %s | samtools sort -o %s -\" % (sam_file, bam_file)\n",
    "    \n",
    "    # Create bam index\n",
    "    bam_index_command = \"samtools index %s %s\" % (bam_file, bai_file)\n",
    "    \n",
    "    # Run all commands sequentially\n",
    "    alignment_commands = ' && '.join([bwa_align_command, samtools_view_and_sort_command,\n",
    "                                       bam_index_command])\n",
    "    alignment_proc = subprocess.Popen(alignment_commands, shell=True,\n",
    "                                      stdout=subprocess.PIPE, stderr=subprocess.PIPE)\n",
    "    stdout, stderr = alignment_proc.communicate()\n",
    "    print(stdout, stderr)"
   ]
  },
  {
   "cell_type": "code",
   "execution_count": 63,
   "metadata": {},
   "outputs": [
    {
     "name": "stdout",
     "output_type": "stream",
     "text": [
      "True\n",
      "True\n",
      "True\n",
      "True\n",
      "True\n",
      "False\n",
      "True\n",
      "False\n",
      "  sample genome_size circularised\n",
      "0   YHC8       27458         True\n",
      "1    JB2       12228         True\n",
      "2    JB1        8894         True\n",
      "3   PTS1       13987         True\n",
      "4   PTS2       13553         True\n",
      "5   YHC6       20112        False\n",
      "6   YHC7       15924         True\n",
      "7  YHC17       21705        False\n"
     ]
    }
   ],
   "source": [
    "# Test for circularisation, export to TSV\n",
    "samples = genome_lengths.iterkeys()\n",
    "circlator_dir = os.path.join(random_dir, \"circlator\")\n",
    "circularised_df = pd.DataFrame(columns=[\"sample\", \"genome_size\", \"circularised\"])\n",
    "tsv_output_file = os.path.join(PRESENTATION_DIR, \"data\", \"using_unclassified_data_genome_status.tsv\")\n",
    "for sample in samples:\n",
    "    circlator_sample_dir = os.path.join(circlator_dir, sample)\n",
    "    circlator_log_file = os.path.join(circlator_sample_dir, sample+\".log\")\n",
    "    # Example line in log file: tig00000001 circularised: True\n",
    "    is_circularised_command = \"grep circularised: %s | rev | cut -d' ' -f1 | rev\" % circlator_log_file\n",
    "    is_circularised_proc = subprocess.Popen(is_circularised_command, shell=True,\n",
    "                                           stdout=subprocess.PIPE, stderr=subprocess.PIPE)\n",
    "    stdout, stderr = is_circularised_proc.communicate()\n",
    "    is_circularised = stdout.rstrip()==\"True\"\n",
    "    print(is_circularised)\n",
    "    circularised_as_seres = pd.Series(data=[sample, genome_lengths[sample], is_circularised], \n",
    "                                      index=[\"sample\", \"genome_size\", \"circularised\"])\n",
    "    circularised_df = circularised_df.append(circularised_as_seres, ignore_index=True)\n",
    "circularised_df.to_csv(tsv_output_file, index=False, sep=\"\\t\")\n",
    "print(circularised_df)"
   ]
  },
  {
   "cell_type": "code",
   "execution_count": null,
   "metadata": {
    "collapsed": true
   },
   "outputs": [],
   "source": []
  }
 ],
 "metadata": {
  "kernelspec": {
   "display_name": "Python 2",
   "language": "python",
   "name": "python2"
  },
  "language_info": {
   "codemirror_mode": {
    "name": "ipython",
    "version": 2
   },
   "file_extension": ".py",
   "mimetype": "text/x-python",
   "name": "python",
   "nbconvert_exporter": "python",
   "pygments_lexer": "ipython2",
   "version": "2.7.13"
  }
 },
 "nbformat": 4,
 "nbformat_minor": 2
}
